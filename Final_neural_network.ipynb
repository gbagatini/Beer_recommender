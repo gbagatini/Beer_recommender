{
 "cells": [
  {
   "cell_type": "code",
   "execution_count": 1,
   "metadata": {},
   "outputs": [],
   "source": [
    "import pandas as pd\n",
    "import numpy as np\n",
    "import matplotlib.pyplot as plt\n",
    "%matplotlib inline\n",
    "\n",
    "\n",
    "import os\n",
    "import warnings\n",
    "\n",
    "from tensorflow.keras.models import Model\n",
    "from tensorflow.keras.layers import Dense, Dropout, BatchNormalization, Input, Embedding, Flatten, Dot, Dense, Concatenate\n",
    "\n",
    "warnings.filterwarnings('ignore')\n",
    "%matplotlib inline\n",
    "\n",
    "from tensorflow.keras import regularizers\n",
    "from tensorflow.keras.regularizers import l2\n",
    "from tensorflow.keras import layers\n",
    "#from tensorflow.keras.layers import merge\n",
    "from tensorflow.keras.layers import Concatenate, Average, Multiply, Dot\n",
    "from tensorflow.keras.layers import dot\n",
    "\n"
   ]
  },
  {
   "cell_type": "markdown",
   "metadata": {},
   "source": [
    "-  I have decided to try the Neural Network model using tensor flow - keras. \n",
    "-  Resources: https://towardsdatascience.com/building-a-recommendation-system-using-neural-network-embeddings-1ef92e5c80c9"
   ]
  },
  {
   "cell_type": "code",
   "execution_count": 2,
   "metadata": {},
   "outputs": [],
   "source": [
    "df_total = pd.read_csv(\"model_data.csv\",index_col = 0)"
   ]
  },
  {
   "cell_type": "code",
   "execution_count": 3,
   "metadata": {},
   "outputs": [
    {
     "data": {
      "text/html": [
       "<div>\n",
       "<style scoped>\n",
       "    .dataframe tbody tr th:only-of-type {\n",
       "        vertical-align: middle;\n",
       "    }\n",
       "\n",
       "    .dataframe tbody tr th {\n",
       "        vertical-align: top;\n",
       "    }\n",
       "\n",
       "    .dataframe thead th {\n",
       "        text-align: right;\n",
       "    }\n",
       "</style>\n",
       "<table border=\"1\" class=\"dataframe\">\n",
       "  <thead>\n",
       "    <tr style=\"text-align: right;\">\n",
       "      <th></th>\n",
       "      <th>Beer_id</th>\n",
       "      <th>Username_id</th>\n",
       "      <th>User Score</th>\n",
       "    </tr>\n",
       "  </thead>\n",
       "  <tbody>\n",
       "    <tr>\n",
       "      <th>0</th>\n",
       "      <td>84627</td>\n",
       "      <td>30162</td>\n",
       "      <td>3.08</td>\n",
       "    </tr>\n",
       "    <tr>\n",
       "      <th>1</th>\n",
       "      <td>84627</td>\n",
       "      <td>11051</td>\n",
       "      <td>3.13</td>\n",
       "    </tr>\n",
       "    <tr>\n",
       "      <th>2</th>\n",
       "      <td>84627</td>\n",
       "      <td>24945</td>\n",
       "      <td>4.07</td>\n",
       "    </tr>\n",
       "    <tr>\n",
       "      <th>3</th>\n",
       "      <td>84627</td>\n",
       "      <td>30155</td>\n",
       "      <td>3.38</td>\n",
       "    </tr>\n",
       "    <tr>\n",
       "      <th>4</th>\n",
       "      <td>84627</td>\n",
       "      <td>30731</td>\n",
       "      <td>4.07</td>\n",
       "    </tr>\n",
       "  </tbody>\n",
       "</table>\n",
       "</div>"
      ],
      "text/plain": [
       "   Beer_id  Username_id  User Score\n",
       "0    84627        30162        3.08\n",
       "1    84627        11051        3.13\n",
       "2    84627        24945        4.07\n",
       "3    84627        30155        3.38\n",
       "4    84627        30731        4.07"
      ]
     },
     "execution_count": 3,
     "metadata": {},
     "output_type": "execute_result"
    }
   ],
   "source": [
    "df_total.head()"
   ]
  },
  {
   "cell_type": "code",
   "execution_count": 4,
   "metadata": {},
   "outputs": [
    {
     "data": {
      "text/plain": [
       "(678042, 3)"
      ]
     },
     "execution_count": 4,
     "metadata": {},
     "output_type": "execute_result"
    }
   ],
   "source": [
    "df_total.shape"
   ]
  },
  {
   "cell_type": "code",
   "execution_count": 5,
   "metadata": {},
   "outputs": [
    {
     "data": {
      "text/plain": [
       "(array([6.7228e+04, 1.2314e+04, 5.2350e+03, 2.9820e+03, 1.1628e+04,\n",
       "        1.0420e+03, 2.0000e+01, 2.0000e+00, 1.0000e+00, 4.0000e+00]),\n",
       " array([ 1. ,  5.9, 10.8, 15.7, 20.6, 25.5, 30.4, 35.3, 40.2, 45.1, 50. ]),\n",
       " <a list of 10 Patch objects>)"
      ]
     },
     "execution_count": 5,
     "metadata": {},
     "output_type": "execute_result"
    },
    {
     "data": {
      "image/png": "[encoded data removed]",
      "text/plain": [
       "<Figure size 432x288 with 1 Axes>"
      ]
     },
     "metadata": {
      "needs_background": "light"
     },
     "output_type": "display_data"
    }
   ],
   "source": [
    "plt.hist(df_total[\"Beer_id\"].value_counts())"
   ]
  },
  {
   "cell_type": "code",
   "execution_count": 6,
   "metadata": {},
   "outputs": [],
   "source": [
    "df_total.columns = [\"beer_id\", \"User_id\", \"ratings\"]"
   ]
  },
  {
   "cell_type": "code",
   "execution_count": 7,
   "metadata": {},
   "outputs": [
    {
     "data": {
      "text/plain": [
       "36137"
      ]
     },
     "execution_count": 7,
     "metadata": {},
     "output_type": "execute_result"
    }
   ],
   "source": [
    "len(df_total[\"User_id\"].unique())\n",
    "#36,137 unique users"
   ]
  },
  {
   "cell_type": "code",
   "execution_count": 8,
   "metadata": {},
   "outputs": [
    {
     "data": {
      "text/plain": [
       "100456"
      ]
     },
     "execution_count": 8,
     "metadata": {},
     "output_type": "execute_result"
    }
   ],
   "source": [
    "len(df_total[\"beer_id\"].unique())\n",
    "# 100,456 beers"
   ]
  },
  {
   "cell_type": "code",
   "execution_count": 9,
   "metadata": {},
   "outputs": [
    {
     "data": {
      "image/png": "[encoded data removed]",
      "text/plain": [
       "<Figure size 432x288 with 1 Axes>"
      ]
     },
     "metadata": {
      "needs_background": "light"
     },
     "output_type": "display_data"
    }
   ],
   "source": [
    "plt.figure()\n",
    "plt.hist(df_total[\"ratings\"], label = \"Beer ratings\")\n",
    "plt.xlabel(\"Beer Ratings\")\n",
    "plt.ylabel(\"Frequency\")\n",
    "plt.title(\"Beer Ratings Histogram\")\n",
    "plt.show()"
   ]
  },
  {
   "cell_type": "code",
   "execution_count": 10,
   "metadata": {},
   "outputs": [],
   "source": [
    "# Divide the data into train and test"
   ]
  },
  {
   "cell_type": "code",
   "execution_count": 11,
   "metadata": {},
   "outputs": [],
   "source": [
    "from sklearn.model_selection import train_test_split\n",
    "train, test = train_test_split(df_total, test_size=0.2, random_state=42)"
   ]
  },
  {
   "cell_type": "code",
   "execution_count": 12,
   "metadata": {},
   "outputs": [
    {
     "data": {
      "text/html": [
       "<div>\n",
       "<style scoped>\n",
       "    .dataframe tbody tr th:only-of-type {\n",
       "        vertical-align: middle;\n",
       "    }\n",
       "\n",
       "    .dataframe tbody tr th {\n",
       "        vertical-align: top;\n",
       "    }\n",
       "\n",
       "    .dataframe thead th {\n",
       "        text-align: right;\n",
       "    }\n",
       "</style>\n",
       "<table border=\"1\" class=\"dataframe\">\n",
       "  <thead>\n",
       "    <tr style=\"text-align: right;\">\n",
       "      <th></th>\n",
       "      <th>beer_id</th>\n",
       "      <th>User_id</th>\n",
       "      <th>ratings</th>\n",
       "    </tr>\n",
       "  </thead>\n",
       "  <tbody>\n",
       "    <tr>\n",
       "      <th>158326</th>\n",
       "      <td>82212</td>\n",
       "      <td>35328</td>\n",
       "      <td>3.57</td>\n",
       "    </tr>\n",
       "    <tr>\n",
       "      <th>110904</th>\n",
       "      <td>28839</td>\n",
       "      <td>32813</td>\n",
       "      <td>5.00</td>\n",
       "    </tr>\n",
       "    <tr>\n",
       "      <th>71091</th>\n",
       "      <td>83796</td>\n",
       "      <td>21475</td>\n",
       "      <td>3.51</td>\n",
       "    </tr>\n",
       "    <tr>\n",
       "      <th>1225117</th>\n",
       "      <td>100008</td>\n",
       "      <td>31325</td>\n",
       "      <td>3.84</td>\n",
       "    </tr>\n",
       "    <tr>\n",
       "      <th>1586167</th>\n",
       "      <td>28853</td>\n",
       "      <td>16469</td>\n",
       "      <td>3.70</td>\n",
       "    </tr>\n",
       "  </tbody>\n",
       "</table>\n",
       "</div>"
      ],
      "text/plain": [
       "         beer_id  User_id  ratings\n",
       "158326     82212    35328     3.57\n",
       "110904     28839    32813     5.00\n",
       "71091      83796    21475     3.51\n",
       "1225117   100008    31325     3.84\n",
       "1586167    28853    16469     3.70"
      ]
     },
     "execution_count": 12,
     "metadata": {},
     "output_type": "execute_result"
    }
   ],
   "source": [
    "train.head()"
   ]
  },
  {
   "cell_type": "code",
   "execution_count": 13,
   "metadata": {},
   "outputs": [
    {
     "data": {
      "text/plain": [
       "(135609, 3)"
      ]
     },
     "execution_count": 13,
     "metadata": {},
     "output_type": "execute_result"
    }
   ],
   "source": [
    "test.shape"
   ]
  },
  {
   "cell_type": "code",
   "execution_count": 14,
   "metadata": {},
   "outputs": [],
   "source": [
    "from tensorflow.keras import regularizers\n",
    "from tensorflow.keras.regularizers import l2\n",
    "from tensorflow.keras import layers\n",
    "#from tensorflow.keras.layers import merge\n",
    "from tensorflow.keras.layers import Concatenate, Average, Multiply, Dot\n",
    "from tensorflow.keras.layers import dot\n",
    "\n",
    "\n",
    "def embedding_input(name,n_in,n_out,reg):\n",
    "    inp = Input(shape = (1,), dtype = \"int64\", name = name)\n",
    "    return inp, Embedding(n_in,n_out,input_length = 1)(inp)"
   ]
  },
  {
   "cell_type": "code",
   "execution_count": 15,
   "metadata": {},
   "outputs": [],
   "source": [
    "n_users = df_total.User_id.nunique()\n",
    "n_beers = df_total.beer_id.nunique()\n",
    "n_users,n_beers\n",
    "n_factors = 50"
   ]
  },
  {
   "cell_type": "code",
   "execution_count": 16,
   "metadata": {},
   "outputs": [
    {
     "data": {
      "text/plain": [
       "36137"
      ]
     },
     "execution_count": 16,
     "metadata": {},
     "output_type": "execute_result"
    }
   ],
   "source": [
    "n_users"
   ]
  },
  {
   "cell_type": "code",
   "execution_count": 17,
   "metadata": {},
   "outputs": [
    {
     "data": {
      "text/plain": [
       "<tf.Tensor 'embedding_1/embedding_lookup/Identity_1:0' shape=(?, 1, 50) dtype=float32>"
      ]
     },
     "execution_count": 17,
     "metadata": {},
     "output_type": "execute_result"
    }
   ],
   "source": [
    "user_in, u=embedding_input(\"user_in\", n_users,n_factors, 1e-4)\n",
    "beer_in, m=embedding_input(\"beer_in\",n_beers,n_factors, 1e-4)\n",
    "m"
   ]
  },
  {
   "cell_type": "code",
   "execution_count": 18,
   "metadata": {},
   "outputs": [],
   "source": [
    "x = Dot(axes=1)([u,m])\n",
    "x = Flatten()(x)\n",
    "x = Dropout(0.3)(x)\n",
    "x = Dense(70, activation = \"relu\")(x)\n",
    "x = Dropout(0.3)(x)\n",
    "x = Dense(1)(x)\n",
    "nn = Model([user_in,beer_in], x)\n",
    "nn.compile('adam', 'mean_squared_error')"
   ]
  },
  {
   "cell_type": "code",
   "execution_count": 19,
   "metadata": {},
   "outputs": [
    {
     "name": "stdout",
     "output_type": "stream",
     "text": [
      "__________________________________________________________________________________________________\n",
      "Layer (type)                    Output Shape         Param #     Connected to                     \n",
      "==================================================================================================\n",
      "user_in (InputLayer)            (None, 1)            0                                            \n",
      "__________________________________________________________________________________________________\n",
      "beer_in (InputLayer)            (None, 1)            0                                            \n",
      "__________________________________________________________________________________________________\n",
      "embedding (Embedding)           (None, 1, 50)        1806850     user_in[0][0]                    \n",
      "__________________________________________________________________________________________________\n",
      "embedding_1 (Embedding)         (None, 1, 50)        5022800     beer_in[0][0]                    \n",
      "__________________________________________________________________________________________________\n",
      "dot (Dot)                       (None, 50, 50)       0           embedding[0][0]                  \n",
      "                                                                 embedding_1[0][0]                \n",
      "__________________________________________________________________________________________________\n",
      "flatten (Flatten)               (None, 2500)         0           dot[0][0]                        \n",
      "__________________________________________________________________________________________________\n",
      "dropout (Dropout)               (None, 2500)         0           flatten[0][0]                    \n",
      "__________________________________________________________________________________________________\n",
      "dense (Dense)                   (None, 70)           175070      dropout[0][0]                    \n",
      "__________________________________________________________________________________________________\n",
      "dropout_1 (Dropout)             (None, 70)           0           dense[0][0]                      \n",
      "__________________________________________________________________________________________________\n",
      "dense_1 (Dense)                 (None, 1)            71          dropout_1[0][0]                  \n",
      "==================================================================================================\n",
      "Total params: 7,004,791\n",
      "Trainable params: 7,004,791\n",
      "Non-trainable params: 0\n",
      "__________________________________________________________________________________________________\n"
     ]
    }
   ],
   "source": [
    "nn.summary()"
   ]
  },
  {
   "cell_type": "code",
   "execution_count": 20,
   "metadata": {},
   "outputs": [],
   "source": [
    "from tensorflow.keras.utils import plot_model\n",
    "plot_model(nn, to_file='model2.png', show_shapes=False, show_layer_names=True,\n",
    "    rankdir='TB')"
   ]
  },
  {
   "cell_type": "code",
   "execution_count": 21,
   "metadata": {},
   "outputs": [],
   "source": [
    "from tensorflow.keras.models import load_model\n",
    "\n",
    "if os.path.exists('regression_model6.h5'):\n",
    "    nn= load_model('regression_model6.h5')\n",
    "else:\n",
    "    history = nn.fit([train.User_id, train.beer_id], train.ratings, epochs=5, verbose=1)\n",
    "    nn.save('regression_model6.h5')\n",
    "    plt.plot(history.history['loss'])\n",
    "    plt.xlabel(\"Epochs\")\n",
    "    plt.ylabel(\"Training Error\")"
   ]
  },
  {
   "cell_type": "code",
   "execution_count": 22,
   "metadata": {},
   "outputs": [
    {
     "name": "stdout",
     "output_type": "stream",
     "text": [
      "135609/135609 [==============================] - 14s 100us/step\n"
     ]
    },
    {
     "data": {
      "text/plain": [
       "0.20336864221379888"
      ]
     },
     "execution_count": 22,
     "metadata": {},
     "output_type": "execute_result"
    }
   ],
   "source": [
    "nn.evaluate([test.User_id, test.beer_id], test.ratings)"
   ]
  },
  {
   "cell_type": "code",
   "execution_count": 23,
   "metadata": {},
   "outputs": [],
   "source": [
    "predictions2 = nn.predict([test.User_id, test.beer_id])"
   ]
  },
  {
   "cell_type": "code",
   "execution_count": 24,
   "metadata": {},
   "outputs": [
    {
     "data": {
      "image/png": "[encoded data removed]",
      "text/plain": [
       "<Figure size 432x288 with 1 Axes>"
      ]
     },
     "metadata": {
      "needs_background": "light"
     },
     "output_type": "display_data"
    }
   ],
   "source": [
    "import seaborn as sns\n",
    "plt.figure()\n",
    "\n",
    "\n",
    "ax1 = sns.distplot(test.ratings, hist=False, color=\"r\", label=\"Actual Value\")\n",
    "sns.distplot(predictions2, hist=False, color=\"b\", label=\"Fitted Values\" , ax=ax1)\n",
    "\n",
    "\n",
    "plt.title('Actual vs Fitted Values for Beer Ratings')\n",
    "plt.xlabel('Ratings')\n",
    "plt.ylabel('Proportion of Ratings')\n",
    "\n",
    "plt.show()\n",
    "plt.close()"
   ]
  },
  {
   "cell_type": "code",
   "execution_count": 25,
   "metadata": {},
   "outputs": [
    {
     "data": {
      "text/html": [
       "<div>\n",
       "<style scoped>\n",
       "    .dataframe tbody tr th:only-of-type {\n",
       "        vertical-align: middle;\n",
       "    }\n",
       "\n",
       "    .dataframe tbody tr th {\n",
       "        vertical-align: top;\n",
       "    }\n",
       "\n",
       "    .dataframe thead th {\n",
       "        text-align: right;\n",
       "    }\n",
       "</style>\n",
       "<table border=\"1\" class=\"dataframe\">\n",
       "  <thead>\n",
       "    <tr style=\"text-align: right;\">\n",
       "      <th></th>\n",
       "      <th>beer_id</th>\n",
       "      <th>User_id</th>\n",
       "      <th>ratings</th>\n",
       "      <th>predictions</th>\n",
       "    </tr>\n",
       "  </thead>\n",
       "  <tbody>\n",
       "    <tr>\n",
       "      <th>1616353</th>\n",
       "      <td>15105</td>\n",
       "      <td>33888</td>\n",
       "      <td>3.20</td>\n",
       "      <td>3.373137</td>\n",
       "    </tr>\n",
       "    <tr>\n",
       "      <th>623057</th>\n",
       "      <td>67997</td>\n",
       "      <td>577</td>\n",
       "      <td>3.58</td>\n",
       "      <td>3.603600</td>\n",
       "    </tr>\n",
       "    <tr>\n",
       "      <th>58326</th>\n",
       "      <td>67978</td>\n",
       "      <td>21186</td>\n",
       "      <td>4.13</td>\n",
       "      <td>3.711141</td>\n",
       "    </tr>\n",
       "    <tr>\n",
       "      <th>123986</th>\n",
       "      <td>66558</td>\n",
       "      <td>10237</td>\n",
       "      <td>3.90</td>\n",
       "      <td>4.058798</td>\n",
       "    </tr>\n",
       "    <tr>\n",
       "      <th>1284410</th>\n",
       "      <td>53711</td>\n",
       "      <td>18820</td>\n",
       "      <td>3.12</td>\n",
       "      <td>3.723207</td>\n",
       "    </tr>\n",
       "  </tbody>\n",
       "</table>\n",
       "</div>"
      ],
      "text/plain": [
       "         beer_id  User_id  ratings  predictions\n",
       "1616353    15105    33888     3.20     3.373137\n",
       "623057     67997      577     3.58     3.603600\n",
       "58326      67978    21186     4.13     3.711141\n",
       "123986     66558    10237     3.90     4.058798\n",
       "1284410    53711    18820     3.12     3.723207"
      ]
     },
     "execution_count": 25,
     "metadata": {},
     "output_type": "execute_result"
    }
   ],
   "source": [
    "test[\"predictions\"] = predictions2\n",
    "test.head()"
   ]
  },
  {
   "cell_type": "code",
   "execution_count": 26,
   "metadata": {},
   "outputs": [],
   "source": [
    "import recmetrics\n",
    "import matplotlib.pyplot as plt"
   ]
  },
  {
   "cell_type": "code",
   "execution_count": 27,
   "metadata": {},
   "outputs": [
    {
     "name": "stdout",
     "output_type": "stream",
     "text": [
      "Mean Squared error is:\n",
      "0.20336864066146781\n",
      "Root Mean Squared Error is:\n",
      "0.45096412347488113\n"
     ]
    }
   ],
   "source": [
    "print(\"Mean Squared error is:\")\n",
    "print(recmetrics.mse(test.ratings, test.predictions))\n",
    "print(\"Root Mean Squared Error is:\")\n",
    "print(recmetrics.rmse(test.ratings, test.predictions))"
   ]
  },
  {
   "cell_type": "markdown",
   "metadata": {},
   "source": [
    "### EMBEDDINGS FOR COLD START - TOTAL DF"
   ]
  },
  {
   "cell_type": "code",
   "execution_count": 28,
   "metadata": {},
   "outputs": [
    {
     "data": {
      "text/plain": [
       "array([[ 0.74344677,  0.21334958,  0.776332  , ...,  0.45663404,\n",
       "         0.8287164 ,  0.37052646],\n",
       "       [ 0.8879351 ,  0.7393564 ,  0.4285744 , ...,  0.8972289 ,\n",
       "         0.83515596,  0.9513305 ],\n",
       "       [ 0.6018248 ,  0.5453577 ,  0.22619922, ...,  1.1452312 ,\n",
       "         0.5874955 ,  0.48767838],\n",
       "       ...,\n",
       "       [ 1.2791545 ,  0.33989736,  1.0978934 , ...,  0.55807465,\n",
       "         0.9202401 ,  0.86311877],\n",
       "       [ 0.42791578,  1.037834  ,  0.25275815, ...,  0.6495895 ,\n",
       "         0.6380083 ,  0.99765706],\n",
       "       [-0.23147924,  0.7492978 ,  0.18874146, ..., -0.11552278,\n",
       "        -0.03197143,  0.2583404 ]], dtype=float32)"
      ]
     },
     "execution_count": 28,
     "metadata": {},
     "output_type": "execute_result"
    }
   ],
   "source": [
    "# Extract embeddings\n",
    "\n",
    "beer_em = nn.get_layer('embedding_1')\n",
    "beer_em_weights = beer_em.get_weights()[0]\n",
    "\n",
    "\n",
    "\n",
    "beer_em_weights.shape\n",
    "beer_em_weights"
   ]
  },
  {
   "cell_type": "code",
   "execution_count": 29,
   "metadata": {},
   "outputs": [
    {
     "data": {
      "text/plain": [
       "0.99999994"
      ]
     },
     "execution_count": 29,
     "metadata": {},
     "output_type": "execute_result"
    }
   ],
   "source": [
    "#Each beer is now represented as a 50-dimensional vector.\n",
    "# We need to normalize the embeddings so that the dot product between two embeddings becomes the cosine similarity.\n",
    "#source = https://towardsdatascience.com/building-a-recommendation-system-using-neural-network-embeddings-1ef92e5c80c9\n",
    "beer_em_weights = beer_em_weights / np.linalg.norm(beer_em_weights, axis = 1).reshape((-1, 1))\n",
    "beer_em_weights[0][:10]\n",
    "np.sum(np.square(beer_em_weights[100]))"
   ]
  },
  {
   "cell_type": "code",
   "execution_count": 30,
   "metadata": {},
   "outputs": [
    {
     "data": {
      "text/plain": [
       "array([84627, 48359, 70931, ..., 94148, 96146, 20023], dtype=int64)"
      ]
     },
     "execution_count": 30,
     "metadata": {},
     "output_type": "execute_result"
    }
   ],
   "source": [
    "beer_id_em = df_total[\"beer_id\"].unique()\n",
    "beer_id_em"
   ]
  },
  {
   "cell_type": "code",
   "execution_count": 31,
   "metadata": {
    "scrolled": true
   },
   "outputs": [
    {
     "data": {
      "text/html": [
       "<div>\n",
       "<style scoped>\n",
       "    .dataframe tbody tr th:only-of-type {\n",
       "        vertical-align: middle;\n",
       "    }\n",
       "\n",
       "    .dataframe tbody tr th {\n",
       "        vertical-align: top;\n",
       "    }\n",
       "\n",
       "    .dataframe thead th {\n",
       "        text-align: right;\n",
       "    }\n",
       "</style>\n",
       "<table border=\"1\" class=\"dataframe\">\n",
       "  <thead>\n",
       "    <tr style=\"text-align: right;\">\n",
       "      <th></th>\n",
       "      <th>0</th>\n",
       "      <th>1</th>\n",
       "      <th>2</th>\n",
       "      <th>3</th>\n",
       "      <th>4</th>\n",
       "      <th>5</th>\n",
       "      <th>6</th>\n",
       "      <th>7</th>\n",
       "      <th>8</th>\n",
       "      <th>9</th>\n",
       "      <th>...</th>\n",
       "      <th>40</th>\n",
       "      <th>41</th>\n",
       "      <th>42</th>\n",
       "      <th>43</th>\n",
       "      <th>44</th>\n",
       "      <th>45</th>\n",
       "      <th>46</th>\n",
       "      <th>47</th>\n",
       "      <th>48</th>\n",
       "      <th>49</th>\n",
       "    </tr>\n",
       "    <tr>\n",
       "      <th>beer_id</th>\n",
       "      <th></th>\n",
       "      <th></th>\n",
       "      <th></th>\n",
       "      <th></th>\n",
       "      <th></th>\n",
       "      <th></th>\n",
       "      <th></th>\n",
       "      <th></th>\n",
       "      <th></th>\n",
       "      <th></th>\n",
       "      <th></th>\n",
       "      <th></th>\n",
       "      <th></th>\n",
       "      <th></th>\n",
       "      <th></th>\n",
       "      <th></th>\n",
       "      <th></th>\n",
       "      <th></th>\n",
       "      <th></th>\n",
       "      <th></th>\n",
       "      <th></th>\n",
       "    </tr>\n",
       "  </thead>\n",
       "  <tbody>\n",
       "    <tr>\n",
       "      <th>84627</th>\n",
       "      <td>0.165913</td>\n",
       "      <td>0.047613</td>\n",
       "      <td>0.173252</td>\n",
       "      <td>0.127195</td>\n",
       "      <td>0.065180</td>\n",
       "      <td>0.218318</td>\n",
       "      <td>0.032207</td>\n",
       "      <td>0.097739</td>\n",
       "      <td>0.148118</td>\n",
       "      <td>0.198845</td>\n",
       "      <td>...</td>\n",
       "      <td>0.080858</td>\n",
       "      <td>0.103122</td>\n",
       "      <td>0.149452</td>\n",
       "      <td>0.068352</td>\n",
       "      <td>0.109492</td>\n",
       "      <td>0.194746</td>\n",
       "      <td>0.110312</td>\n",
       "      <td>0.101906</td>\n",
       "      <td>0.184942</td>\n",
       "      <td>0.082689</td>\n",
       "    </tr>\n",
       "    <tr>\n",
       "      <th>48359</th>\n",
       "      <td>0.179784</td>\n",
       "      <td>0.149701</td>\n",
       "      <td>0.086775</td>\n",
       "      <td>0.120444</td>\n",
       "      <td>0.120256</td>\n",
       "      <td>0.170227</td>\n",
       "      <td>0.153406</td>\n",
       "      <td>0.110601</td>\n",
       "      <td>0.186355</td>\n",
       "      <td>0.080455</td>\n",
       "      <td>...</td>\n",
       "      <td>0.141834</td>\n",
       "      <td>0.115630</td>\n",
       "      <td>0.075467</td>\n",
       "      <td>0.127683</td>\n",
       "      <td>0.101700</td>\n",
       "      <td>0.114788</td>\n",
       "      <td>0.033853</td>\n",
       "      <td>0.181666</td>\n",
       "      <td>0.169098</td>\n",
       "      <td>0.192620</td>\n",
       "    </tr>\n",
       "    <tr>\n",
       "      <th>70931</th>\n",
       "      <td>0.112803</td>\n",
       "      <td>0.102219</td>\n",
       "      <td>0.042398</td>\n",
       "      <td>0.046837</td>\n",
       "      <td>0.094003</td>\n",
       "      <td>0.199456</td>\n",
       "      <td>0.175573</td>\n",
       "      <td>0.126572</td>\n",
       "      <td>0.108145</td>\n",
       "      <td>0.186079</td>\n",
       "      <td>...</td>\n",
       "      <td>0.163171</td>\n",
       "      <td>0.149580</td>\n",
       "      <td>0.053876</td>\n",
       "      <td>0.089760</td>\n",
       "      <td>0.134415</td>\n",
       "      <td>0.179341</td>\n",
       "      <td>0.120688</td>\n",
       "      <td>0.214656</td>\n",
       "      <td>0.110117</td>\n",
       "      <td>0.091408</td>\n",
       "    </tr>\n",
       "    <tr>\n",
       "      <th>97050</th>\n",
       "      <td>-0.007938</td>\n",
       "      <td>0.158076</td>\n",
       "      <td>0.113604</td>\n",
       "      <td>0.235478</td>\n",
       "      <td>0.202546</td>\n",
       "      <td>0.215729</td>\n",
       "      <td>0.009759</td>\n",
       "      <td>0.008170</td>\n",
       "      <td>0.170948</td>\n",
       "      <td>0.014073</td>\n",
       "      <td>...</td>\n",
       "      <td>0.104021</td>\n",
       "      <td>0.122394</td>\n",
       "      <td>0.231554</td>\n",
       "      <td>-0.039201</td>\n",
       "      <td>-0.037381</td>\n",
       "      <td>0.223322</td>\n",
       "      <td>0.013763</td>\n",
       "      <td>0.267003</td>\n",
       "      <td>0.020030</td>\n",
       "      <td>0.212583</td>\n",
       "    </tr>\n",
       "    <tr>\n",
       "      <th>64399</th>\n",
       "      <td>0.166376</td>\n",
       "      <td>0.229141</td>\n",
       "      <td>0.014912</td>\n",
       "      <td>0.087396</td>\n",
       "      <td>0.196742</td>\n",
       "      <td>0.061704</td>\n",
       "      <td>0.042234</td>\n",
       "      <td>0.035216</td>\n",
       "      <td>0.034856</td>\n",
       "      <td>0.024434</td>\n",
       "      <td>...</td>\n",
       "      <td>0.161381</td>\n",
       "      <td>0.041168</td>\n",
       "      <td>0.136571</td>\n",
       "      <td>0.032709</td>\n",
       "      <td>0.085681</td>\n",
       "      <td>0.152440</td>\n",
       "      <td>0.226030</td>\n",
       "      <td>0.185516</td>\n",
       "      <td>0.187600</td>\n",
       "      <td>0.166137</td>\n",
       "    </tr>\n",
       "  </tbody>\n",
       "</table>\n",
       "<p>5 rows × 50 columns</p>\n",
       "</div>"
      ],
      "text/plain": [
       "               0         1         2         3         4         5         6   \\\n",
       "beer_id                                                                         \n",
       "84627    0.165913  0.047613  0.173252  0.127195  0.065180  0.218318  0.032207   \n",
       "48359    0.179784  0.149701  0.086775  0.120444  0.120256  0.170227  0.153406   \n",
       "70931    0.112803  0.102219  0.042398  0.046837  0.094003  0.199456  0.175573   \n",
       "97050   -0.007938  0.158076  0.113604  0.235478  0.202546  0.215729  0.009759   \n",
       "64399    0.166376  0.229141  0.014912  0.087396  0.196742  0.061704  0.042234   \n",
       "\n",
       "               7         8         9   ...        40        41        42  \\\n",
       "beer_id                                ...                                 \n",
       "84627    0.097739  0.148118  0.198845  ...  0.080858  0.103122  0.149452   \n",
       "48359    0.110601  0.186355  0.080455  ...  0.141834  0.115630  0.075467   \n",
       "70931    0.126572  0.108145  0.186079  ...  0.163171  0.149580  0.053876   \n",
       "97050    0.008170  0.170948  0.014073  ...  0.104021  0.122394  0.231554   \n",
       "64399    0.035216  0.034856  0.024434  ...  0.161381  0.041168  0.136571   \n",
       "\n",
       "               43        44        45        46        47        48        49  \n",
       "beer_id                                                                        \n",
       "84627    0.068352  0.109492  0.194746  0.110312  0.101906  0.184942  0.082689  \n",
       "48359    0.127683  0.101700  0.114788  0.033853  0.181666  0.169098  0.192620  \n",
       "70931    0.089760  0.134415  0.179341  0.120688  0.214656  0.110117  0.091408  \n",
       "97050   -0.039201 -0.037381  0.223322  0.013763  0.267003  0.020030  0.212583  \n",
       "64399    0.032709  0.085681  0.152440  0.226030  0.185516  0.187600  0.166137  \n",
       "\n",
       "[5 rows x 50 columns]"
      ]
     },
     "execution_count": 31,
     "metadata": {},
     "output_type": "execute_result"
    }
   ],
   "source": [
    "beer_pd = pd.DataFrame(beer_em_weights)\n",
    "beer_pd[\"beer_id\"] = beer_id_em\n",
    "beer_pd = beer_pd.set_index(\"beer_id\")\n",
    "beer_pd.head()"
   ]
  },
  {
   "cell_type": "code",
   "execution_count": 32,
   "metadata": {},
   "outputs": [],
   "source": [
    "beer_df = pd.read_csv(\"total_df.csv\",index_col = 0)"
   ]
  },
  {
   "cell_type": "code",
   "execution_count": 33,
   "metadata": {},
   "outputs": [
    {
     "data": {
      "text/plain": [
       "Index(['URL', 'Beer name', 'Brewery', 'Style', 'Style_Ranked', 'ABV', 'Score',\n",
       "       'Score_Ranked', 'Avg Rating', 'Reviews', 'N_Ratings', 'Brewery_Name',\n",
       "       'Brewery_City', 'Brewery_Country', 'Availability', 'N_Wants', 'N_Gots',\n",
       "       'User Score', 'User_ratings', 'User comment', 'Username', 'Date Review',\n",
       "       'Look_rating', 'Smell_rating', 'tasting_rating', 'feel_rating',\n",
       "       'overall_rating', 'Username_id', 'Date of Review', 'Beer + Brewery',\n",
       "       'Beer_id'],\n",
       "      dtype='object')"
      ]
     },
     "execution_count": 33,
     "metadata": {},
     "output_type": "execute_result"
    }
   ],
   "source": [
    "beer_df.columns"
   ]
  },
  {
   "cell_type": "code",
   "execution_count": 34,
   "metadata": {},
   "outputs": [],
   "source": [
    "names_beer = beer_df[[\"Beer_id\",\"Beer + Brewery\",\"Beer name\"]].copy()"
   ]
  },
  {
   "cell_type": "code",
   "execution_count": 35,
   "metadata": {},
   "outputs": [],
   "source": [
    "names_beer.columns = ['beer_id', 'Beer + Brewery', \"Beer name\"]"
   ]
  },
  {
   "cell_type": "code",
   "execution_count": 36,
   "metadata": {},
   "outputs": [],
   "source": [
    "names_beer  = names_beer.drop_duplicates()"
   ]
  },
  {
   "cell_type": "code",
   "execution_count": 37,
   "metadata": {},
   "outputs": [
    {
     "data": {
      "text/plain": [
       "(100456, 3)"
      ]
     },
     "execution_count": 37,
     "metadata": {},
     "output_type": "execute_result"
    }
   ],
   "source": [
    "names_beer.shape"
   ]
  },
  {
   "cell_type": "code",
   "execution_count": 38,
   "metadata": {},
   "outputs": [
    {
     "data": {
      "text/plain": [
       "(100456, 50)"
      ]
     },
     "execution_count": 38,
     "metadata": {},
     "output_type": "execute_result"
    }
   ],
   "source": [
    "beer_pd.shape"
   ]
  },
  {
   "cell_type": "code",
   "execution_count": 39,
   "metadata": {},
   "outputs": [
    {
     "data": {
      "text/plain": [
       "Index(['beer_id', 'Beer + Brewery', 'Beer name'], dtype='object')"
      ]
     },
     "execution_count": 39,
     "metadata": {},
     "output_type": "execute_result"
    }
   ],
   "source": [
    "names_beer.columns"
   ]
  },
  {
   "cell_type": "code",
   "execution_count": 40,
   "metadata": {},
   "outputs": [
    {
     "data": {
      "text/plain": [
       "(100456, 50)"
      ]
     },
     "execution_count": 40,
     "metadata": {},
     "output_type": "execute_result"
    }
   ],
   "source": [
    "beer_pd.shape"
   ]
  },
  {
   "cell_type": "code",
   "execution_count": 41,
   "metadata": {},
   "outputs": [],
   "source": [
    "beer_pd = beer_pd.reset_index()"
   ]
  },
  {
   "cell_type": "code",
   "execution_count": 42,
   "metadata": {},
   "outputs": [
    {
     "data": {
      "text/plain": [
       "Index(['beer_id',         0,         1,         2,         3,         4,\n",
       "               5,         6,         7,         8,         9,        10,\n",
       "              11,        12,        13,        14,        15,        16,\n",
       "              17,        18,        19,        20,        21,        22,\n",
       "              23,        24,        25,        26,        27,        28,\n",
       "              29,        30,        31,        32,        33,        34,\n",
       "              35,        36,        37,        38,        39,        40,\n",
       "              41,        42,        43,        44,        45,        46,\n",
       "              47,        48,        49],\n",
       "      dtype='object')"
      ]
     },
     "execution_count": 42,
     "metadata": {},
     "output_type": "execute_result"
    }
   ],
   "source": [
    "beer_pd.columns"
   ]
  },
  {
   "cell_type": "code",
   "execution_count": 43,
   "metadata": {},
   "outputs": [],
   "source": [
    "beers_embeddings = pd.merge(beer_pd, names_beer, on= \"beer_id\", how = \"left\")"
   ]
  },
  {
   "cell_type": "code",
   "execution_count": 44,
   "metadata": {},
   "outputs": [
    {
     "data": {
      "text/plain": [
       "Index([       'beer_id',                0,                1,                2,\n",
       "                      3,                4,                5,                6,\n",
       "                      7,                8,                9,               10,\n",
       "                     11,               12,               13,               14,\n",
       "                     15,               16,               17,               18,\n",
       "                     19,               20,               21,               22,\n",
       "                     23,               24,               25,               26,\n",
       "                     27,               28,               29,               30,\n",
       "                     31,               32,               33,               34,\n",
       "                     35,               36,               37,               38,\n",
       "                     39,               40,               41,               42,\n",
       "                     43,               44,               45,               46,\n",
       "                     47,               48,               49, 'Beer + Brewery',\n",
       "            'Beer name'],\n",
       "      dtype='object')"
      ]
     },
     "execution_count": 44,
     "metadata": {},
     "output_type": "execute_result"
    }
   ],
   "source": [
    "beers_embeddings.columns"
   ]
  },
  {
   "cell_type": "code",
   "execution_count": 45,
   "metadata": {},
   "outputs": [
    {
     "data": {
      "text/html": [
       "<div>\n",
       "<style scoped>\n",
       "    .dataframe tbody tr th:only-of-type {\n",
       "        vertical-align: middle;\n",
       "    }\n",
       "\n",
       "    .dataframe tbody tr th {\n",
       "        vertical-align: top;\n",
       "    }\n",
       "\n",
       "    .dataframe thead th {\n",
       "        text-align: right;\n",
       "    }\n",
       "</style>\n",
       "<table border=\"1\" class=\"dataframe\">\n",
       "  <thead>\n",
       "    <tr style=\"text-align: right;\">\n",
       "      <th></th>\n",
       "      <th>beer_id</th>\n",
       "      <th>0</th>\n",
       "      <th>1</th>\n",
       "      <th>2</th>\n",
       "      <th>3</th>\n",
       "      <th>4</th>\n",
       "      <th>5</th>\n",
       "      <th>6</th>\n",
       "      <th>7</th>\n",
       "      <th>8</th>\n",
       "      <th>...</th>\n",
       "      <th>42</th>\n",
       "      <th>43</th>\n",
       "      <th>44</th>\n",
       "      <th>45</th>\n",
       "      <th>46</th>\n",
       "      <th>47</th>\n",
       "      <th>48</th>\n",
       "      <th>49</th>\n",
       "      <th>Beer + Brewery</th>\n",
       "      <th>Beer name</th>\n",
       "    </tr>\n",
       "  </thead>\n",
       "  <tbody>\n",
       "    <tr>\n",
       "      <th>38453</th>\n",
       "      <td>40157</td>\n",
       "      <td>0.221580</td>\n",
       "      <td>0.176081</td>\n",
       "      <td>0.068015</td>\n",
       "      <td>-0.039921</td>\n",
       "      <td>0.173916</td>\n",
       "      <td>0.061939</td>\n",
       "      <td>0.004534</td>\n",
       "      <td>0.110257</td>\n",
       "      <td>0.287793</td>\n",
       "      <td>...</td>\n",
       "      <td>0.225861</td>\n",
       "      <td>0.098091</td>\n",
       "      <td>-0.025094</td>\n",
       "      <td>0.115013</td>\n",
       "      <td>0.171114</td>\n",
       "      <td>0.222144</td>\n",
       "      <td>0.177802</td>\n",
       "      <td>0.237336</td>\n",
       "      <td>Heineken Oud Bruin - Heineken Nederland B.V.</td>\n",
       "      <td>Heineken Oud Bruin</td>\n",
       "    </tr>\n",
       "    <tr>\n",
       "      <th>39128</th>\n",
       "      <td>40155</td>\n",
       "      <td>0.196359</td>\n",
       "      <td>0.135998</td>\n",
       "      <td>0.209365</td>\n",
       "      <td>0.118793</td>\n",
       "      <td>0.123844</td>\n",
       "      <td>0.082347</td>\n",
       "      <td>0.179259</td>\n",
       "      <td>0.111777</td>\n",
       "      <td>0.233410</td>\n",
       "      <td>...</td>\n",
       "      <td>0.103434</td>\n",
       "      <td>0.114089</td>\n",
       "      <td>0.211856</td>\n",
       "      <td>-0.010184</td>\n",
       "      <td>0.127575</td>\n",
       "      <td>0.141926</td>\n",
       "      <td>0.104199</td>\n",
       "      <td>0.152292</td>\n",
       "      <td>Heineken Dark Lager - Heineken Nederland B.V.</td>\n",
       "      <td>Heineken Dark Lager</td>\n",
       "    </tr>\n",
       "    <tr>\n",
       "      <th>69996</th>\n",
       "      <td>40158</td>\n",
       "      <td>0.183716</td>\n",
       "      <td>0.119907</td>\n",
       "      <td>0.218755</td>\n",
       "      <td>0.191543</td>\n",
       "      <td>0.102580</td>\n",
       "      <td>0.074697</td>\n",
       "      <td>0.132290</td>\n",
       "      <td>0.137247</td>\n",
       "      <td>0.133924</td>\n",
       "      <td>...</td>\n",
       "      <td>0.069532</td>\n",
       "      <td>0.139779</td>\n",
       "      <td>0.060056</td>\n",
       "      <td>0.055912</td>\n",
       "      <td>0.046553</td>\n",
       "      <td>0.213505</td>\n",
       "      <td>0.153156</td>\n",
       "      <td>0.192140</td>\n",
       "      <td>Heineken Premium Light Lager - Heineken Nederl...</td>\n",
       "      <td>Heineken Premium Light Lager</td>\n",
       "    </tr>\n",
       "    <tr>\n",
       "      <th>72376</th>\n",
       "      <td>40156</td>\n",
       "      <td>0.071487</td>\n",
       "      <td>0.214702</td>\n",
       "      <td>0.219067</td>\n",
       "      <td>0.135198</td>\n",
       "      <td>0.182828</td>\n",
       "      <td>0.155283</td>\n",
       "      <td>0.156016</td>\n",
       "      <td>0.057689</td>\n",
       "      <td>0.197032</td>\n",
       "      <td>...</td>\n",
       "      <td>0.161810</td>\n",
       "      <td>0.198700</td>\n",
       "      <td>0.035092</td>\n",
       "      <td>0.080211</td>\n",
       "      <td>0.136143</td>\n",
       "      <td>0.034364</td>\n",
       "      <td>0.108265</td>\n",
       "      <td>0.231536</td>\n",
       "      <td>Heineken Lager Beer - Heineken Romania</td>\n",
       "      <td>Heineken Lager Beer</td>\n",
       "    </tr>\n",
       "    <tr>\n",
       "      <th>80885</th>\n",
       "      <td>40154</td>\n",
       "      <td>0.179649</td>\n",
       "      <td>-0.006748</td>\n",
       "      <td>0.121628</td>\n",
       "      <td>0.203417</td>\n",
       "      <td>0.038585</td>\n",
       "      <td>0.105609</td>\n",
       "      <td>0.166274</td>\n",
       "      <td>0.065853</td>\n",
       "      <td>0.118197</td>\n",
       "      <td>...</td>\n",
       "      <td>0.202567</td>\n",
       "      <td>0.032333</td>\n",
       "      <td>0.229942</td>\n",
       "      <td>0.071348</td>\n",
       "      <td>0.026373</td>\n",
       "      <td>-0.005635</td>\n",
       "      <td>0.177124</td>\n",
       "      <td>0.244537</td>\n",
       "      <td>Heineken 0.0 - Heineken Nederland B.V.</td>\n",
       "      <td>Heineken 0.0</td>\n",
       "    </tr>\n",
       "    <tr>\n",
       "      <th>97602</th>\n",
       "      <td>40159</td>\n",
       "      <td>0.016557</td>\n",
       "      <td>0.014924</td>\n",
       "      <td>0.078946</td>\n",
       "      <td>0.213023</td>\n",
       "      <td>0.107666</td>\n",
       "      <td>0.090180</td>\n",
       "      <td>0.279991</td>\n",
       "      <td>-0.003167</td>\n",
       "      <td>-0.004146</td>\n",
       "      <td>...</td>\n",
       "      <td>0.216294</td>\n",
       "      <td>0.047442</td>\n",
       "      <td>0.096861</td>\n",
       "      <td>0.169136</td>\n",
       "      <td>0.102039</td>\n",
       "      <td>0.027916</td>\n",
       "      <td>0.119534</td>\n",
       "      <td>0.007565</td>\n",
       "      <td>Heineken Tarwebok - Heineken Nederland B.V.</td>\n",
       "      <td>Heineken Tarwebok</td>\n",
       "    </tr>\n",
       "  </tbody>\n",
       "</table>\n",
       "<p>6 rows × 53 columns</p>\n",
       "</div>"
      ],
      "text/plain": [
       "       beer_id         0         1         2         3         4         5  \\\n",
       "38453    40157  0.221580  0.176081  0.068015 -0.039921  0.173916  0.061939   \n",
       "39128    40155  0.196359  0.135998  0.209365  0.118793  0.123844  0.082347   \n",
       "69996    40158  0.183716  0.119907  0.218755  0.191543  0.102580  0.074697   \n",
       "72376    40156  0.071487  0.214702  0.219067  0.135198  0.182828  0.155283   \n",
       "80885    40154  0.179649 -0.006748  0.121628  0.203417  0.038585  0.105609   \n",
       "97602    40159  0.016557  0.014924  0.078946  0.213023  0.107666  0.090180   \n",
       "\n",
       "              6         7         8  ...        42        43        44  \\\n",
       "38453  0.004534  0.110257  0.287793  ...  0.225861  0.098091 -0.025094   \n",
       "39128  0.179259  0.111777  0.233410  ...  0.103434  0.114089  0.211856   \n",
       "69996  0.132290  0.137247  0.133924  ...  0.069532  0.139779  0.060056   \n",
       "72376  0.156016  0.057689  0.197032  ...  0.161810  0.198700  0.035092   \n",
       "80885  0.166274  0.065853  0.118197  ...  0.202567  0.032333  0.229942   \n",
       "97602  0.279991 -0.003167 -0.004146  ...  0.216294  0.047442  0.096861   \n",
       "\n",
       "             45        46        47        48        49  \\\n",
       "38453  0.115013  0.171114  0.222144  0.177802  0.237336   \n",
       "39128 -0.010184  0.127575  0.141926  0.104199  0.152292   \n",
       "69996  0.055912  0.046553  0.213505  0.153156  0.192140   \n",
       "72376  0.080211  0.136143  0.034364  0.108265  0.231536   \n",
       "80885  0.071348  0.026373 -0.005635  0.177124  0.244537   \n",
       "97602  0.169136  0.102039  0.027916  0.119534  0.007565   \n",
       "\n",
       "                                          Beer + Brewery  \\\n",
       "38453       Heineken Oud Bruin - Heineken Nederland B.V.   \n",
       "39128      Heineken Dark Lager - Heineken Nederland B.V.   \n",
       "69996  Heineken Premium Light Lager - Heineken Nederl...   \n",
       "72376             Heineken Lager Beer - Heineken Romania   \n",
       "80885             Heineken 0.0 - Heineken Nederland B.V.   \n",
       "97602        Heineken Tarwebok - Heineken Nederland B.V.   \n",
       "\n",
       "                          Beer name  \n",
       "38453            Heineken Oud Bruin  \n",
       "39128           Heineken Dark Lager  \n",
       "69996  Heineken Premium Light Lager  \n",
       "72376           Heineken Lager Beer  \n",
       "80885                  Heineken 0.0  \n",
       "97602             Heineken Tarwebok  \n",
       "\n",
       "[6 rows x 53 columns]"
      ]
     },
     "execution_count": 45,
     "metadata": {},
     "output_type": "execute_result"
    }
   ],
   "source": [
    "beers_embeddings[beers_embeddings[\"Beer name\"].str.contains(\"Heineken\")]"
   ]
  },
  {
   "cell_type": "code",
   "execution_count": 46,
   "metadata": {},
   "outputs": [
    {
     "data": {
      "text/html": [
       "<div>\n",
       "<style scoped>\n",
       "    .dataframe tbody tr th:only-of-type {\n",
       "        vertical-align: middle;\n",
       "    }\n",
       "\n",
       "    .dataframe tbody tr th {\n",
       "        vertical-align: top;\n",
       "    }\n",
       "\n",
       "    .dataframe thead th {\n",
       "        text-align: right;\n",
       "    }\n",
       "</style>\n",
       "<table border=\"1\" class=\"dataframe\">\n",
       "  <thead>\n",
       "    <tr style=\"text-align: right;\">\n",
       "      <th></th>\n",
       "      <th>0</th>\n",
       "      <th>1</th>\n",
       "      <th>2</th>\n",
       "      <th>3</th>\n",
       "      <th>4</th>\n",
       "      <th>5</th>\n",
       "      <th>6</th>\n",
       "      <th>7</th>\n",
       "      <th>8</th>\n",
       "      <th>9</th>\n",
       "      <th>...</th>\n",
       "      <th>40</th>\n",
       "      <th>41</th>\n",
       "      <th>42</th>\n",
       "      <th>43</th>\n",
       "      <th>44</th>\n",
       "      <th>45</th>\n",
       "      <th>46</th>\n",
       "      <th>47</th>\n",
       "      <th>48</th>\n",
       "      <th>49</th>\n",
       "    </tr>\n",
       "  </thead>\n",
       "  <tbody>\n",
       "    <tr>\n",
       "      <th>0</th>\n",
       "      <td>0.165913</td>\n",
       "      <td>0.047613</td>\n",
       "      <td>0.173252</td>\n",
       "      <td>0.127195</td>\n",
       "      <td>0.065180</td>\n",
       "      <td>0.218318</td>\n",
       "      <td>0.032207</td>\n",
       "      <td>0.097739</td>\n",
       "      <td>0.148118</td>\n",
       "      <td>0.198845</td>\n",
       "      <td>...</td>\n",
       "      <td>0.080858</td>\n",
       "      <td>0.103122</td>\n",
       "      <td>0.149452</td>\n",
       "      <td>0.068352</td>\n",
       "      <td>0.109492</td>\n",
       "      <td>0.194746</td>\n",
       "      <td>0.110312</td>\n",
       "      <td>0.101906</td>\n",
       "      <td>0.184942</td>\n",
       "      <td>0.082689</td>\n",
       "    </tr>\n",
       "    <tr>\n",
       "      <th>1</th>\n",
       "      <td>0.179784</td>\n",
       "      <td>0.149701</td>\n",
       "      <td>0.086775</td>\n",
       "      <td>0.120444</td>\n",
       "      <td>0.120256</td>\n",
       "      <td>0.170227</td>\n",
       "      <td>0.153406</td>\n",
       "      <td>0.110601</td>\n",
       "      <td>0.186355</td>\n",
       "      <td>0.080455</td>\n",
       "      <td>...</td>\n",
       "      <td>0.141834</td>\n",
       "      <td>0.115630</td>\n",
       "      <td>0.075467</td>\n",
       "      <td>0.127683</td>\n",
       "      <td>0.101700</td>\n",
       "      <td>0.114788</td>\n",
       "      <td>0.033853</td>\n",
       "      <td>0.181666</td>\n",
       "      <td>0.169098</td>\n",
       "      <td>0.192620</td>\n",
       "    </tr>\n",
       "    <tr>\n",
       "      <th>2</th>\n",
       "      <td>0.112803</td>\n",
       "      <td>0.102219</td>\n",
       "      <td>0.042398</td>\n",
       "      <td>0.046837</td>\n",
       "      <td>0.094003</td>\n",
       "      <td>0.199456</td>\n",
       "      <td>0.175573</td>\n",
       "      <td>0.126572</td>\n",
       "      <td>0.108145</td>\n",
       "      <td>0.186079</td>\n",
       "      <td>...</td>\n",
       "      <td>0.163171</td>\n",
       "      <td>0.149580</td>\n",
       "      <td>0.053876</td>\n",
       "      <td>0.089760</td>\n",
       "      <td>0.134415</td>\n",
       "      <td>0.179341</td>\n",
       "      <td>0.120688</td>\n",
       "      <td>0.214656</td>\n",
       "      <td>0.110117</td>\n",
       "      <td>0.091408</td>\n",
       "    </tr>\n",
       "    <tr>\n",
       "      <th>3</th>\n",
       "      <td>-0.007938</td>\n",
       "      <td>0.158076</td>\n",
       "      <td>0.113604</td>\n",
       "      <td>0.235478</td>\n",
       "      <td>0.202546</td>\n",
       "      <td>0.215729</td>\n",
       "      <td>0.009759</td>\n",
       "      <td>0.008170</td>\n",
       "      <td>0.170948</td>\n",
       "      <td>0.014073</td>\n",
       "      <td>...</td>\n",
       "      <td>0.104021</td>\n",
       "      <td>0.122394</td>\n",
       "      <td>0.231554</td>\n",
       "      <td>-0.039201</td>\n",
       "      <td>-0.037381</td>\n",
       "      <td>0.223322</td>\n",
       "      <td>0.013763</td>\n",
       "      <td>0.267003</td>\n",
       "      <td>0.020030</td>\n",
       "      <td>0.212583</td>\n",
       "    </tr>\n",
       "    <tr>\n",
       "      <th>4</th>\n",
       "      <td>0.166376</td>\n",
       "      <td>0.229141</td>\n",
       "      <td>0.014912</td>\n",
       "      <td>0.087396</td>\n",
       "      <td>0.196742</td>\n",
       "      <td>0.061704</td>\n",
       "      <td>0.042234</td>\n",
       "      <td>0.035216</td>\n",
       "      <td>0.034856</td>\n",
       "      <td>0.024434</td>\n",
       "      <td>...</td>\n",
       "      <td>0.161381</td>\n",
       "      <td>0.041168</td>\n",
       "      <td>0.136571</td>\n",
       "      <td>0.032709</td>\n",
       "      <td>0.085681</td>\n",
       "      <td>0.152440</td>\n",
       "      <td>0.226030</td>\n",
       "      <td>0.185516</td>\n",
       "      <td>0.187600</td>\n",
       "      <td>0.166137</td>\n",
       "    </tr>\n",
       "    <tr>\n",
       "      <th>...</th>\n",
       "      <td>...</td>\n",
       "      <td>...</td>\n",
       "      <td>...</td>\n",
       "      <td>...</td>\n",
       "      <td>...</td>\n",
       "      <td>...</td>\n",
       "      <td>...</td>\n",
       "      <td>...</td>\n",
       "      <td>...</td>\n",
       "      <td>...</td>\n",
       "      <td>...</td>\n",
       "      <td>...</td>\n",
       "      <td>...</td>\n",
       "      <td>...</td>\n",
       "      <td>...</td>\n",
       "      <td>...</td>\n",
       "      <td>...</td>\n",
       "      <td>...</td>\n",
       "      <td>...</td>\n",
       "      <td>...</td>\n",
       "      <td>...</td>\n",
       "    </tr>\n",
       "    <tr>\n",
       "      <th>100451</th>\n",
       "      <td>0.092181</td>\n",
       "      <td>0.050747</td>\n",
       "      <td>0.053371</td>\n",
       "      <td>0.147189</td>\n",
       "      <td>0.051818</td>\n",
       "      <td>0.044338</td>\n",
       "      <td>0.024059</td>\n",
       "      <td>0.190047</td>\n",
       "      <td>0.058231</td>\n",
       "      <td>0.022852</td>\n",
       "      <td>...</td>\n",
       "      <td>0.209048</td>\n",
       "      <td>0.043125</td>\n",
       "      <td>0.095122</td>\n",
       "      <td>0.037622</td>\n",
       "      <td>0.229960</td>\n",
       "      <td>0.121892</td>\n",
       "      <td>0.084229</td>\n",
       "      <td>0.098015</td>\n",
       "      <td>0.218076</td>\n",
       "      <td>0.207656</td>\n",
       "    </tr>\n",
       "    <tr>\n",
       "      <th>100452</th>\n",
       "      <td>0.225032</td>\n",
       "      <td>0.022504</td>\n",
       "      <td>0.017671</td>\n",
       "      <td>-0.024075</td>\n",
       "      <td>0.232343</td>\n",
       "      <td>0.202135</td>\n",
       "      <td>0.199186</td>\n",
       "      <td>0.235660</td>\n",
       "      <td>0.199912</td>\n",
       "      <td>-0.011195</td>\n",
       "      <td>...</td>\n",
       "      <td>-0.031711</td>\n",
       "      <td>0.198274</td>\n",
       "      <td>0.047248</td>\n",
       "      <td>0.014820</td>\n",
       "      <td>-0.001332</td>\n",
       "      <td>0.127503</td>\n",
       "      <td>0.133409</td>\n",
       "      <td>-0.009285</td>\n",
       "      <td>0.063598</td>\n",
       "      <td>0.161574</td>\n",
       "    </tr>\n",
       "    <tr>\n",
       "      <th>100453</th>\n",
       "      <td>0.199955</td>\n",
       "      <td>0.053132</td>\n",
       "      <td>0.171621</td>\n",
       "      <td>0.196483</td>\n",
       "      <td>0.115337</td>\n",
       "      <td>0.064615</td>\n",
       "      <td>0.120304</td>\n",
       "      <td>0.108796</td>\n",
       "      <td>0.180460</td>\n",
       "      <td>0.168661</td>\n",
       "      <td>...</td>\n",
       "      <td>0.166624</td>\n",
       "      <td>0.083468</td>\n",
       "      <td>0.092449</td>\n",
       "      <td>0.147393</td>\n",
       "      <td>0.128977</td>\n",
       "      <td>0.196654</td>\n",
       "      <td>0.080895</td>\n",
       "      <td>0.087237</td>\n",
       "      <td>0.143850</td>\n",
       "      <td>0.134921</td>\n",
       "    </tr>\n",
       "    <tr>\n",
       "      <th>100454</th>\n",
       "      <td>0.097956</td>\n",
       "      <td>0.237574</td>\n",
       "      <td>0.057860</td>\n",
       "      <td>0.103317</td>\n",
       "      <td>0.200601</td>\n",
       "      <td>0.216823</td>\n",
       "      <td>0.131832</td>\n",
       "      <td>0.067842</td>\n",
       "      <td>0.174149</td>\n",
       "      <td>0.169984</td>\n",
       "      <td>...</td>\n",
       "      <td>0.112919</td>\n",
       "      <td>0.115010</td>\n",
       "      <td>0.174561</td>\n",
       "      <td>0.053930</td>\n",
       "      <td>0.136760</td>\n",
       "      <td>0.106240</td>\n",
       "      <td>0.124430</td>\n",
       "      <td>0.148700</td>\n",
       "      <td>0.146048</td>\n",
       "      <td>0.228377</td>\n",
       "    </tr>\n",
       "    <tr>\n",
       "      <th>100455</th>\n",
       "      <td>-0.069850</td>\n",
       "      <td>0.226106</td>\n",
       "      <td>0.056954</td>\n",
       "      <td>0.027479</td>\n",
       "      <td>-0.023064</td>\n",
       "      <td>0.245708</td>\n",
       "      <td>0.141486</td>\n",
       "      <td>0.095941</td>\n",
       "      <td>0.044691</td>\n",
       "      <td>0.148558</td>\n",
       "      <td>...</td>\n",
       "      <td>0.084863</td>\n",
       "      <td>-0.050577</td>\n",
       "      <td>0.101930</td>\n",
       "      <td>0.164360</td>\n",
       "      <td>0.224400</td>\n",
       "      <td>0.181655</td>\n",
       "      <td>0.237441</td>\n",
       "      <td>-0.034860</td>\n",
       "      <td>-0.009648</td>\n",
       "      <td>0.077956</td>\n",
       "    </tr>\n",
       "  </tbody>\n",
       "</table>\n",
       "<p>100456 rows × 50 columns</p>\n",
       "</div>"
      ],
      "text/plain": [
       "              0         1         2         3         4         5         6   \\\n",
       "0       0.165913  0.047613  0.173252  0.127195  0.065180  0.218318  0.032207   \n",
       "1       0.179784  0.149701  0.086775  0.120444  0.120256  0.170227  0.153406   \n",
       "2       0.112803  0.102219  0.042398  0.046837  0.094003  0.199456  0.175573   \n",
       "3      -0.007938  0.158076  0.113604  0.235478  0.202546  0.215729  0.009759   \n",
       "4       0.166376  0.229141  0.014912  0.087396  0.196742  0.061704  0.042234   \n",
       "...          ...       ...       ...       ...       ...       ...       ...   \n",
       "100451  0.092181  0.050747  0.053371  0.147189  0.051818  0.044338  0.024059   \n",
       "100452  0.225032  0.022504  0.017671 -0.024075  0.232343  0.202135  0.199186   \n",
       "100453  0.199955  0.053132  0.171621  0.196483  0.115337  0.064615  0.120304   \n",
       "100454  0.097956  0.237574  0.057860  0.103317  0.200601  0.216823  0.131832   \n",
       "100455 -0.069850  0.226106  0.056954  0.027479 -0.023064  0.245708  0.141486   \n",
       "\n",
       "              7         8         9   ...        40        41        42  \\\n",
       "0       0.097739  0.148118  0.198845  ...  0.080858  0.103122  0.149452   \n",
       "1       0.110601  0.186355  0.080455  ...  0.141834  0.115630  0.075467   \n",
       "2       0.126572  0.108145  0.186079  ...  0.163171  0.149580  0.053876   \n",
       "3       0.008170  0.170948  0.014073  ...  0.104021  0.122394  0.231554   \n",
       "4       0.035216  0.034856  0.024434  ...  0.161381  0.041168  0.136571   \n",
       "...          ...       ...       ...  ...       ...       ...       ...   \n",
       "100451  0.190047  0.058231  0.022852  ...  0.209048  0.043125  0.095122   \n",
       "100452  0.235660  0.199912 -0.011195  ... -0.031711  0.198274  0.047248   \n",
       "100453  0.108796  0.180460  0.168661  ...  0.166624  0.083468  0.092449   \n",
       "100454  0.067842  0.174149  0.169984  ...  0.112919  0.115010  0.174561   \n",
       "100455  0.095941  0.044691  0.148558  ...  0.084863 -0.050577  0.101930   \n",
       "\n",
       "              43        44        45        46        47        48        49  \n",
       "0       0.068352  0.109492  0.194746  0.110312  0.101906  0.184942  0.082689  \n",
       "1       0.127683  0.101700  0.114788  0.033853  0.181666  0.169098  0.192620  \n",
       "2       0.089760  0.134415  0.179341  0.120688  0.214656  0.110117  0.091408  \n",
       "3      -0.039201 -0.037381  0.223322  0.013763  0.267003  0.020030  0.212583  \n",
       "4       0.032709  0.085681  0.152440  0.226030  0.185516  0.187600  0.166137  \n",
       "...          ...       ...       ...       ...       ...       ...       ...  \n",
       "100451  0.037622  0.229960  0.121892  0.084229  0.098015  0.218076  0.207656  \n",
       "100452  0.014820 -0.001332  0.127503  0.133409 -0.009285  0.063598  0.161574  \n",
       "100453  0.147393  0.128977  0.196654  0.080895  0.087237  0.143850  0.134921  \n",
       "100454  0.053930  0.136760  0.106240  0.124430  0.148700  0.146048  0.228377  \n",
       "100455  0.164360  0.224400  0.181655  0.237441 -0.034860 -0.009648  0.077956  \n",
       "\n",
       "[100456 rows x 50 columns]"
      ]
     },
     "execution_count": 46,
     "metadata": {},
     "output_type": "execute_result"
    }
   ],
   "source": [
    "beers_embeddings.iloc[:,1:51]"
   ]
  },
  {
   "cell_type": "code",
   "execution_count": 47,
   "metadata": {},
   "outputs": [],
   "source": [
    "def find_similarity_total(beer_name):\n",
    "    \"\"\"Recommends beers based on the cosine similarity between beers\"\"\"\n",
    "    cosine_list_total = []\n",
    "    beer_name3 = []\n",
    "    beer_name4 = []\n",
    "\n",
    "    for i in range(0,beers_embeddings.shape[0]):\n",
    "        tent4 = beers_embeddings.iloc[i,1:51]\n",
    "        tent5 = beers_embeddings[beers_embeddings[\"Beer name\"] == beer_name]\n",
    "        tent6 = tent5.iloc[0,1:51]\n",
    "        cosine_total = np.dot(tent6,tent4)\n",
    "        \n",
    "        beer3 = tent5.iloc[0,52]\n",
    "        beer4 = beers_embeddings.iloc[i,52]\n",
    "        cosine_list_total.append(cosine_total)\n",
    "        beer_name3.append(beer3)\n",
    "        beer_name4.append(beer4)\n",
    "        \n",
    "        \n",
    "    cosine_df_total = pd.DataFrame({\"beer1\" : beer_name3, \"beer2\" : beer_name4, \"cosine\" : cosine_list_total})\n",
    "    cosine_df_total = cosine_df_total.sort_values(by=\"cosine\", ascending = False)\n",
    "    return cosine_df_total.head(10)"
   ]
  },
  {
   "cell_type": "markdown",
   "metadata": {},
   "source": [
    " - This function takes a lot of time to recommend beers, it takes the dot product of every possible combination with the beer chosen and gives the cosine similarity. \n",
    " - Based on that, I have decided to use BC Local Beers to recommend for new users!"
   ]
  },
  {
   "cell_type": "code",
   "execution_count": 48,
   "metadata": {},
   "outputs": [],
   "source": [
    "#find_similarity_total(\"Kalik\")\n"
   ]
  },
  {
   "cell_type": "markdown",
   "metadata": {},
   "source": [
    "### BC LOCAL BEERS RECOMMENDATIONS - COLD START"
   ]
  },
  {
   "cell_type": "code",
   "execution_count": 49,
   "metadata": {},
   "outputs": [],
   "source": [
    "bc = pd.read_csv(\"beer_bc.csv\", index_col = 0)"
   ]
  },
  {
   "cell_type": "code",
   "execution_count": 50,
   "metadata": {},
   "outputs": [
    {
     "data": {
      "text/plain": [
       "(18241, 31)"
      ]
     },
     "execution_count": 50,
     "metadata": {},
     "output_type": "execute_result"
    }
   ],
   "source": [
    "bc.shape"
   ]
  },
  {
   "cell_type": "code",
   "execution_count": 51,
   "metadata": {},
   "outputs": [
    {
     "data": {
      "text/html": [
       "<div>\n",
       "<style scoped>\n",
       "    .dataframe tbody tr th:only-of-type {\n",
       "        vertical-align: middle;\n",
       "    }\n",
       "\n",
       "    .dataframe tbody tr th {\n",
       "        vertical-align: top;\n",
       "    }\n",
       "\n",
       "    .dataframe thead th {\n",
       "        text-align: right;\n",
       "    }\n",
       "</style>\n",
       "<table border=\"1\" class=\"dataframe\">\n",
       "  <thead>\n",
       "    <tr style=\"text-align: right;\">\n",
       "      <th></th>\n",
       "      <th>URL</th>\n",
       "      <th>Beer name</th>\n",
       "      <th>Brewery</th>\n",
       "      <th>Style</th>\n",
       "      <th>Style_Ranked</th>\n",
       "      <th>ABV</th>\n",
       "      <th>Score</th>\n",
       "      <th>Score_Ranked</th>\n",
       "      <th>Avg Rating</th>\n",
       "      <th>Reviews</th>\n",
       "      <th>...</th>\n",
       "      <th>Date Review</th>\n",
       "      <th>Look_rating</th>\n",
       "      <th>Smell_rating</th>\n",
       "      <th>tasting_rating</th>\n",
       "      <th>feel_rating</th>\n",
       "      <th>overall_rating</th>\n",
       "      <th>Username_id</th>\n",
       "      <th>Date of Review</th>\n",
       "      <th>Beer + Brewery</th>\n",
       "      <th>Beer_id</th>\n",
       "    </tr>\n",
       "  </thead>\n",
       "  <tbody>\n",
       "    <tr>\n",
       "      <th>943</th>\n",
       "      <td>https://www.beeradvocate.com/beer/profile/3822...</td>\n",
       "      <td>Biere De Garde</td>\n",
       "      <td>Strange Fellows Brewing</td>\n",
       "      <td>French Bière de Garde</td>\n",
       "      <td>0.0</td>\n",
       "      <td>6.0</td>\n",
       "      <td>85.175407</td>\n",
       "      <td>0.0</td>\n",
       "      <td>3.83</td>\n",
       "      <td>1</td>\n",
       "      <td>...</td>\n",
       "      <td>Dec 29, 2014</td>\n",
       "      <td>4.5</td>\n",
       "      <td>3.75</td>\n",
       "      <td>3.50</td>\n",
       "      <td>4.00</td>\n",
       "      <td>3.75</td>\n",
       "      <td>16159</td>\n",
       "      <td>2014-12-29</td>\n",
       "      <td>Biere De Garde - Strange Fellows Brewing</td>\n",
       "      <td>9609</td>\n",
       "    </tr>\n",
       "    <tr>\n",
       "      <th>1743</th>\n",
       "      <td>https://www.beeradvocate.com/beer/profile/2937...</td>\n",
       "      <td>Brews Brothers Hangin' Tough (Red Bock)</td>\n",
       "      <td>Parallel 49 Brewing Company</td>\n",
       "      <td>German Bock</td>\n",
       "      <td>0.0</td>\n",
       "      <td>7.0</td>\n",
       "      <td>85.175407</td>\n",
       "      <td>0.0</td>\n",
       "      <td>3.52</td>\n",
       "      <td>2</td>\n",
       "      <td>...</td>\n",
       "      <td>Oct 11, 2019</td>\n",
       "      <td>3.5</td>\n",
       "      <td>3.50</td>\n",
       "      <td>3.75</td>\n",
       "      <td>3.75</td>\n",
       "      <td>3.75</td>\n",
       "      <td>6455</td>\n",
       "      <td>2019-10-11</td>\n",
       "      <td>Brews Brothers Hangin' Tough (Red Bock) - Para...</td>\n",
       "      <td>14633</td>\n",
       "    </tr>\n",
       "    <tr>\n",
       "      <th>1750</th>\n",
       "      <td>https://www.beeradvocate.com/beer/profile/2937...</td>\n",
       "      <td>Brews Brothers Hangin' Tough (Red Bock)</td>\n",
       "      <td>Parallel 49 Brewing Company</td>\n",
       "      <td>German Bock</td>\n",
       "      <td>0.0</td>\n",
       "      <td>7.0</td>\n",
       "      <td>85.175407</td>\n",
       "      <td>0.0</td>\n",
       "      <td>3.52</td>\n",
       "      <td>2</td>\n",
       "      <td>...</td>\n",
       "      <td>Jun 05, 2019</td>\n",
       "      <td>3.0</td>\n",
       "      <td>3.00</td>\n",
       "      <td>3.00</td>\n",
       "      <td>3.00</td>\n",
       "      <td>4.00</td>\n",
       "      <td>20983</td>\n",
       "      <td>2019-06-05</td>\n",
       "      <td>Brews Brothers Hangin' Tough (Red Bock) - Para...</td>\n",
       "      <td>14633</td>\n",
       "    </tr>\n",
       "    <tr>\n",
       "      <th>2104</th>\n",
       "      <td>https://www.beeradvocate.com/beer/profile/6272...</td>\n",
       "      <td>Bavarian Copper Bock</td>\n",
       "      <td>CANOE Brewpub</td>\n",
       "      <td>German Bock</td>\n",
       "      <td>0.0</td>\n",
       "      <td>6.5</td>\n",
       "      <td>85.175407</td>\n",
       "      <td>0.0</td>\n",
       "      <td>4.00</td>\n",
       "      <td>2</td>\n",
       "      <td>...</td>\n",
       "      <td>Oct 21, 2010</td>\n",
       "      <td>4.0</td>\n",
       "      <td>4.00</td>\n",
       "      <td>4.50</td>\n",
       "      <td>4.00</td>\n",
       "      <td>5.00</td>\n",
       "      <td>32472</td>\n",
       "      <td>2010-10-21</td>\n",
       "      <td>Bavarian Copper Bock - CANOE Brewpub</td>\n",
       "      <td>7943</td>\n",
       "    </tr>\n",
       "    <tr>\n",
       "      <th>2110</th>\n",
       "      <td>https://www.beeradvocate.com/beer/profile/6272...</td>\n",
       "      <td>Bavarian Copper Bock</td>\n",
       "      <td>CANOE Brewpub</td>\n",
       "      <td>German Bock</td>\n",
       "      <td>0.0</td>\n",
       "      <td>6.5</td>\n",
       "      <td>85.175407</td>\n",
       "      <td>0.0</td>\n",
       "      <td>4.00</td>\n",
       "      <td>2</td>\n",
       "      <td>...</td>\n",
       "      <td>Aug 13, 2009</td>\n",
       "      <td>4.0</td>\n",
       "      <td>4.50</td>\n",
       "      <td>4.00</td>\n",
       "      <td>4.00</td>\n",
       "      <td>4.00</td>\n",
       "      <td>19721</td>\n",
       "      <td>2009-08-13</td>\n",
       "      <td>Bavarian Copper Bock - CANOE Brewpub</td>\n",
       "      <td>7943</td>\n",
       "    </tr>\n",
       "  </tbody>\n",
       "</table>\n",
       "<p>5 rows × 31 columns</p>\n",
       "</div>"
      ],
      "text/plain": [
       "                                                    URL  \\\n",
       "943   https://www.beeradvocate.com/beer/profile/3822...   \n",
       "1743  https://www.beeradvocate.com/beer/profile/2937...   \n",
       "1750  https://www.beeradvocate.com/beer/profile/2937...   \n",
       "2104  https://www.beeradvocate.com/beer/profile/6272...   \n",
       "2110  https://www.beeradvocate.com/beer/profile/6272...   \n",
       "\n",
       "                                    Beer name                      Brewery  \\\n",
       "943                            Biere De Garde      Strange Fellows Brewing   \n",
       "1743  Brews Brothers Hangin' Tough (Red Bock)  Parallel 49 Brewing Company   \n",
       "1750  Brews Brothers Hangin' Tough (Red Bock)  Parallel 49 Brewing Company   \n",
       "2104                     Bavarian Copper Bock                CANOE Brewpub   \n",
       "2110                     Bavarian Copper Bock                CANOE Brewpub   \n",
       "\n",
       "                      Style  Style_Ranked  ABV      Score  Score_Ranked  \\\n",
       "943   French Bière de Garde           0.0  6.0  85.175407           0.0   \n",
       "1743            German Bock           0.0  7.0  85.175407           0.0   \n",
       "1750            German Bock           0.0  7.0  85.175407           0.0   \n",
       "2104            German Bock           0.0  6.5  85.175407           0.0   \n",
       "2110            German Bock           0.0  6.5  85.175407           0.0   \n",
       "\n",
       "      Avg Rating  Reviews  ...   Date Review Look_rating Smell_rating  \\\n",
       "943         3.83        1  ...  Dec 29, 2014         4.5         3.75   \n",
       "1743        3.52        2  ...  Oct 11, 2019         3.5         3.50   \n",
       "1750        3.52        2  ...  Jun 05, 2019         3.0         3.00   \n",
       "2104        4.00        2  ...  Oct 21, 2010         4.0         4.00   \n",
       "2110        4.00        2  ...  Aug 13, 2009         4.0         4.50   \n",
       "\n",
       "     tasting_rating feel_rating  overall_rating  Username_id  Date of Review  \\\n",
       "943            3.50        4.00            3.75        16159      2014-12-29   \n",
       "1743           3.75        3.75            3.75         6455      2019-10-11   \n",
       "1750           3.00        3.00            4.00        20983      2019-06-05   \n",
       "2104           4.50        4.00            5.00        32472      2010-10-21   \n",
       "2110           4.00        4.00            4.00        19721      2009-08-13   \n",
       "\n",
       "                                         Beer + Brewery Beer_id  \n",
       "943            Biere De Garde - Strange Fellows Brewing    9609  \n",
       "1743  Brews Brothers Hangin' Tough (Red Bock) - Para...   14633  \n",
       "1750  Brews Brothers Hangin' Tough (Red Bock) - Para...   14633  \n",
       "2104               Bavarian Copper Bock - CANOE Brewpub    7943  \n",
       "2110               Bavarian Copper Bock - CANOE Brewpub    7943  \n",
       "\n",
       "[5 rows x 31 columns]"
      ]
     },
     "execution_count": 51,
     "metadata": {},
     "output_type": "execute_result"
    }
   ],
   "source": [
    "bc.head()"
   ]
  },
  {
   "cell_type": "code",
   "execution_count": 52,
   "metadata": {},
   "outputs": [],
   "source": [
    "info_bc_beers = bc[[\"Beer_id\", \"Beer name\", \"Brewery\",'Style', \n",
    "       'ABV', 'Score', 'Avg Rating', 'N_Ratings',\n",
    "       'Brewery_Name', 'Brewery_City', 'Brewery_Country', 'Availability',\n",
    "       'N_Wants', 'N_Gots',]].copy()"
   ]
  },
  {
   "cell_type": "code",
   "execution_count": 53,
   "metadata": {},
   "outputs": [],
   "source": [
    "info_bc_beers = info_bc_beers.drop_duplicates()"
   ]
  },
  {
   "cell_type": "code",
   "execution_count": 54,
   "metadata": {},
   "outputs": [
    {
     "data": {
      "text/plain": [
       "(1522, 14)"
      ]
     },
     "execution_count": 54,
     "metadata": {},
     "output_type": "execute_result"
    }
   ],
   "source": [
    "info_bc_beers.shape"
   ]
  },
  {
   "cell_type": "code",
   "execution_count": 55,
   "metadata": {},
   "outputs": [
    {
     "data": {
      "text/html": [
       "<div>\n",
       "<style scoped>\n",
       "    .dataframe tbody tr th:only-of-type {\n",
       "        vertical-align: middle;\n",
       "    }\n",
       "\n",
       "    .dataframe tbody tr th {\n",
       "        vertical-align: top;\n",
       "    }\n",
       "\n",
       "    .dataframe thead th {\n",
       "        text-align: right;\n",
       "    }\n",
       "</style>\n",
       "<table border=\"1\" class=\"dataframe\">\n",
       "  <thead>\n",
       "    <tr style=\"text-align: right;\">\n",
       "      <th></th>\n",
       "      <th>Beer_id</th>\n",
       "      <th>Beer name</th>\n",
       "      <th>Brewery</th>\n",
       "      <th>Style</th>\n",
       "      <th>ABV</th>\n",
       "      <th>Score</th>\n",
       "      <th>Avg Rating</th>\n",
       "      <th>N_Ratings</th>\n",
       "      <th>Brewery_Name</th>\n",
       "      <th>Brewery_City</th>\n",
       "      <th>Brewery_Country</th>\n",
       "      <th>Availability</th>\n",
       "      <th>N_Wants</th>\n",
       "      <th>N_Gots</th>\n",
       "    </tr>\n",
       "  </thead>\n",
       "  <tbody>\n",
       "    <tr>\n",
       "      <th>943</th>\n",
       "      <td>9609</td>\n",
       "      <td>Biere De Garde</td>\n",
       "      <td>Strange Fellows Brewing</td>\n",
       "      <td>French Bière de Garde</td>\n",
       "      <td>6.0</td>\n",
       "      <td>85.175407</td>\n",
       "      <td>3.83</td>\n",
       "      <td>3</td>\n",
       "      <td>Strange Fellows Brewing</td>\n",
       "      <td>British Columbia</td>\n",
       "      <td>Canada</td>\n",
       "      <td>Rotating</td>\n",
       "      <td>0</td>\n",
       "      <td>0</td>\n",
       "    </tr>\n",
       "    <tr>\n",
       "      <th>1743</th>\n",
       "      <td>14633</td>\n",
       "      <td>Brews Brothers Hangin' Tough (Red Bock)</td>\n",
       "      <td>Parallel 49 Brewing Company</td>\n",
       "      <td>German Bock</td>\n",
       "      <td>7.0</td>\n",
       "      <td>85.175407</td>\n",
       "      <td>3.52</td>\n",
       "      <td>3</td>\n",
       "      <td>Parallel 49 Brewing Company</td>\n",
       "      <td>British Columbia</td>\n",
       "      <td>Canada</td>\n",
       "      <td>One-off</td>\n",
       "      <td>0</td>\n",
       "      <td>0</td>\n",
       "    </tr>\n",
       "    <tr>\n",
       "      <th>2104</th>\n",
       "      <td>7943</td>\n",
       "      <td>Bavarian Copper Bock</td>\n",
       "      <td>CANOE Brewpub</td>\n",
       "      <td>German Bock</td>\n",
       "      <td>6.5</td>\n",
       "      <td>85.175407</td>\n",
       "      <td>4.00</td>\n",
       "      <td>5</td>\n",
       "      <td>CANOE Brewpub</td>\n",
       "      <td>British Columbia</td>\n",
       "      <td>Canada</td>\n",
       "      <td>Rotating</td>\n",
       "      <td>0</td>\n",
       "      <td>0</td>\n",
       "    </tr>\n",
       "    <tr>\n",
       "      <th>4593</th>\n",
       "      <td>619</td>\n",
       "      <td>1897 Amber Ale</td>\n",
       "      <td>Stanley Park Brewery</td>\n",
       "      <td>Belgian Pale Ale</td>\n",
       "      <td>5.1</td>\n",
       "      <td>77.000000</td>\n",
       "      <td>3.29</td>\n",
       "      <td>74</td>\n",
       "      <td>Stanley Park Brewery</td>\n",
       "      <td>British Columbia</td>\n",
       "      <td>Canada</td>\n",
       "      <td>Year-round</td>\n",
       "      <td>1</td>\n",
       "      <td>18</td>\n",
       "    </tr>\n",
       "    <tr>\n",
       "      <th>5660</th>\n",
       "      <td>8165</td>\n",
       "      <td>Bear Paw Honey Lager</td>\n",
       "      <td>Whistler Brewing Company</td>\n",
       "      <td>American Adjunct Lager</td>\n",
       "      <td>5.0</td>\n",
       "      <td>73.000000</td>\n",
       "      <td>3.46</td>\n",
       "      <td>78</td>\n",
       "      <td>Whistler Brewing Company</td>\n",
       "      <td>British Columbia</td>\n",
       "      <td>Canada</td>\n",
       "      <td>Year-round</td>\n",
       "      <td>5</td>\n",
       "      <td>24</td>\n",
       "    </tr>\n",
       "  </tbody>\n",
       "</table>\n",
       "</div>"
      ],
      "text/plain": [
       "      Beer_id                                Beer name  \\\n",
       "943      9609                           Biere De Garde   \n",
       "1743    14633  Brews Brothers Hangin' Tough (Red Bock)   \n",
       "2104     7943                     Bavarian Copper Bock   \n",
       "4593      619                           1897 Amber Ale   \n",
       "5660     8165                     Bear Paw Honey Lager   \n",
       "\n",
       "                          Brewery                   Style  ABV      Score  \\\n",
       "943       Strange Fellows Brewing   French Bière de Garde  6.0  85.175407   \n",
       "1743  Parallel 49 Brewing Company             German Bock  7.0  85.175407   \n",
       "2104                CANOE Brewpub             German Bock  6.5  85.175407   \n",
       "4593         Stanley Park Brewery        Belgian Pale Ale  5.1  77.000000   \n",
       "5660     Whistler Brewing Company  American Adjunct Lager  5.0  73.000000   \n",
       "\n",
       "      Avg Rating  N_Ratings                 Brewery_Name      Brewery_City  \\\n",
       "943         3.83          3      Strange Fellows Brewing  British Columbia   \n",
       "1743        3.52          3  Parallel 49 Brewing Company  British Columbia   \n",
       "2104        4.00          5                CANOE Brewpub  British Columbia   \n",
       "4593        3.29         74         Stanley Park Brewery  British Columbia   \n",
       "5660        3.46         78     Whistler Brewing Company  British Columbia   \n",
       "\n",
       "     Brewery_Country Availability  N_Wants  N_Gots  \n",
       "943           Canada     Rotating        0       0  \n",
       "1743          Canada      One-off        0       0  \n",
       "2104          Canada     Rotating        0       0  \n",
       "4593          Canada   Year-round        1      18  \n",
       "5660          Canada   Year-round        5      24  "
      ]
     },
     "execution_count": 55,
     "metadata": {},
     "output_type": "execute_result"
    }
   ],
   "source": [
    "info_bc_beers.head()"
   ]
  },
  {
   "cell_type": "code",
   "execution_count": 56,
   "metadata": {},
   "outputs": [
    {
     "data": {
      "text/plain": [
       "(1522, 14)"
      ]
     },
     "execution_count": 56,
     "metadata": {},
     "output_type": "execute_result"
    }
   ],
   "source": [
    "info_bc_beers.shape"
   ]
  },
  {
   "cell_type": "code",
   "execution_count": 57,
   "metadata": {},
   "outputs": [
    {
     "data": {
      "text/plain": [
       "Index(['Beer_id', 'Beer name', 'Brewery', 'Style', 'ABV', 'Score',\n",
       "       'Avg Rating', 'N_Ratings', 'Brewery_Name', 'Brewery_City',\n",
       "       'Brewery_Country', 'Availability', 'N_Wants', 'N_Gots'],\n",
       "      dtype='object')"
      ]
     },
     "execution_count": 57,
     "metadata": {},
     "output_type": "execute_result"
    }
   ],
   "source": [
    "info_bc_beers.columns"
   ]
  },
  {
   "cell_type": "code",
   "execution_count": 58,
   "metadata": {},
   "outputs": [],
   "source": [
    "info_bc_beers.columns = ['beer_id', 'Beer name', 'Brewery', 'Style', 'ABV', 'Score',\n",
    "       'Avg Rating', 'N_Ratings', 'Brewery_Name', 'Brewery_City',\n",
    "       'Brewery_Country', 'Availability', 'N_Wants', 'N_Gots']"
   ]
  },
  {
   "cell_type": "code",
   "execution_count": 59,
   "metadata": {},
   "outputs": [],
   "source": [
    "bc_beers_exploration = pd.merge(info_bc_beers,beers_embeddings, how = \"left\", on = \"beer_id\")"
   ]
  },
  {
   "cell_type": "code",
   "execution_count": 60,
   "metadata": {},
   "outputs": [
    {
     "data": {
      "text/plain": [
       "Index([        'beer_id',     'Beer name_x',         'Brewery',\n",
       "                 'Style',             'ABV',           'Score',\n",
       "            'Avg Rating',       'N_Ratings',    'Brewery_Name',\n",
       "          'Brewery_City', 'Brewery_Country',    'Availability',\n",
       "               'N_Wants',          'N_Gots',                 0,\n",
       "                       1,                 2,                 3,\n",
       "                       4,                 5,                 6,\n",
       "                       7,                 8,                 9,\n",
       "                      10,                11,                12,\n",
       "                      13,                14,                15,\n",
       "                      16,                17,                18,\n",
       "                      19,                20,                21,\n",
       "                      22,                23,                24,\n",
       "                      25,                26,                27,\n",
       "                      28,                29,                30,\n",
       "                      31,                32,                33,\n",
       "                      34,                35,                36,\n",
       "                      37,                38,                39,\n",
       "                      40,                41,                42,\n",
       "                      43,                44,                45,\n",
       "                      46,                47,                48,\n",
       "                      49,  'Beer + Brewery',     'Beer name_y'],\n",
       "      dtype='object')"
      ]
     },
     "execution_count": 60,
     "metadata": {},
     "output_type": "execute_result"
    }
   ],
   "source": [
    "bc_beers_exploration.columns"
   ]
  },
  {
   "cell_type": "code",
   "execution_count": 61,
   "metadata": {},
   "outputs": [],
   "source": [
    "bc_beers_exploration.drop('N_Gots',axis = 1, inplace = True)\n",
    "bc_beers_exploration.drop('N_Wants',axis = 1, inplace = True)\n",
    "bc_beers_exploration.drop('Avg Rating',axis = 1, inplace = True)\n",
    "bc_beers_exploration.drop('N_Ratings',axis = 1, inplace = True)\n"
   ]
  },
  {
   "cell_type": "code",
   "execution_count": 62,
   "metadata": {},
   "outputs": [
    {
     "data": {
      "text/html": [
       "<div>\n",
       "<style scoped>\n",
       "    .dataframe tbody tr th:only-of-type {\n",
       "        vertical-align: middle;\n",
       "    }\n",
       "\n",
       "    .dataframe tbody tr th {\n",
       "        vertical-align: top;\n",
       "    }\n",
       "\n",
       "    .dataframe thead th {\n",
       "        text-align: right;\n",
       "    }\n",
       "</style>\n",
       "<table border=\"1\" class=\"dataframe\">\n",
       "  <thead>\n",
       "    <tr style=\"text-align: right;\">\n",
       "      <th></th>\n",
       "      <th>beer_id</th>\n",
       "      <th>Beer name_x</th>\n",
       "      <th>Brewery</th>\n",
       "      <th>Style</th>\n",
       "      <th>ABV</th>\n",
       "      <th>Score</th>\n",
       "      <th>Brewery_Name</th>\n",
       "      <th>Brewery_City</th>\n",
       "      <th>Brewery_Country</th>\n",
       "      <th>Availability</th>\n",
       "      <th>...</th>\n",
       "      <th>42</th>\n",
       "      <th>43</th>\n",
       "      <th>44</th>\n",
       "      <th>45</th>\n",
       "      <th>46</th>\n",
       "      <th>47</th>\n",
       "      <th>48</th>\n",
       "      <th>49</th>\n",
       "      <th>Beer + Brewery</th>\n",
       "      <th>Beer name_y</th>\n",
       "    </tr>\n",
       "  </thead>\n",
       "  <tbody>\n",
       "    <tr>\n",
       "      <th>203</th>\n",
       "      <td>64956</td>\n",
       "      <td>Original Gravity Haze</td>\n",
       "      <td>Driftwood Brewery</td>\n",
       "      <td>New England IPA</td>\n",
       "      <td>7.0</td>\n",
       "      <td>85.175407</td>\n",
       "      <td>Driftwood Brewery</td>\n",
       "      <td>British Columbia</td>\n",
       "      <td>Canada</td>\n",
       "      <td>Rotating</td>\n",
       "      <td>...</td>\n",
       "      <td>-0.000247</td>\n",
       "      <td>0.113483</td>\n",
       "      <td>0.143018</td>\n",
       "      <td>0.138662</td>\n",
       "      <td>0.136150</td>\n",
       "      <td>0.117810</td>\n",
       "      <td>0.103413</td>\n",
       "      <td>0.209892</td>\n",
       "      <td>Original Gravity Haze - Driftwood Brewery</td>\n",
       "      <td>Original Gravity Haze</td>\n",
       "    </tr>\n",
       "    <tr>\n",
       "      <th>358</th>\n",
       "      <td>64974</td>\n",
       "      <td>Original Pale Ale</td>\n",
       "      <td>Spinnakers Gastro Brewpub &amp; Guesthouse</td>\n",
       "      <td>English Pale Ale</td>\n",
       "      <td>5.0</td>\n",
       "      <td>80.000000</td>\n",
       "      <td>Spinnakers Gastro Brewpub &amp; Guesthouse</td>\n",
       "      <td>British Columbia</td>\n",
       "      <td>Canada</td>\n",
       "      <td>Rotating</td>\n",
       "      <td>...</td>\n",
       "      <td>0.019391</td>\n",
       "      <td>0.220452</td>\n",
       "      <td>0.175504</td>\n",
       "      <td>0.172911</td>\n",
       "      <td>0.052967</td>\n",
       "      <td>0.036433</td>\n",
       "      <td>0.154337</td>\n",
       "      <td>0.189932</td>\n",
       "      <td>Original Pale Ale - Spinnakers Gastro Brewpub ...</td>\n",
       "      <td>Original Pale Ale</td>\n",
       "    </tr>\n",
       "    <tr>\n",
       "      <th>1509</th>\n",
       "      <td>64956</td>\n",
       "      <td>Original Gravity Haze</td>\n",
       "      <td>Driftwood Brewery</td>\n",
       "      <td>New England IPA</td>\n",
       "      <td>7.0</td>\n",
       "      <td>85.175407</td>\n",
       "      <td>Driftwood Brewery</td>\n",
       "      <td>British Columbia</td>\n",
       "      <td>Canada</td>\n",
       "      <td>Rotating</td>\n",
       "      <td>...</td>\n",
       "      <td>-0.000247</td>\n",
       "      <td>0.113483</td>\n",
       "      <td>0.143018</td>\n",
       "      <td>0.138662</td>\n",
       "      <td>0.136150</td>\n",
       "      <td>0.117810</td>\n",
       "      <td>0.103413</td>\n",
       "      <td>0.209892</td>\n",
       "      <td>Original Gravity Haze - Driftwood Brewery</td>\n",
       "      <td>Original Gravity Haze</td>\n",
       "    </tr>\n",
       "  </tbody>\n",
       "</table>\n",
       "<p>3 rows × 62 columns</p>\n",
       "</div>"
      ],
      "text/plain": [
       "      beer_id            Beer name_x                                 Brewery  \\\n",
       "203     64956  Original Gravity Haze                       Driftwood Brewery   \n",
       "358     64974      Original Pale Ale  Spinnakers Gastro Brewpub & Guesthouse   \n",
       "1509    64956  Original Gravity Haze                       Driftwood Brewery   \n",
       "\n",
       "                 Style  ABV      Score  \\\n",
       "203    New England IPA  7.0  85.175407   \n",
       "358   English Pale Ale  5.0  80.000000   \n",
       "1509   New England IPA  7.0  85.175407   \n",
       "\n",
       "                                Brewery_Name      Brewery_City  \\\n",
       "203                        Driftwood Brewery  British Columbia   \n",
       "358   Spinnakers Gastro Brewpub & Guesthouse  British Columbia   \n",
       "1509                       Driftwood Brewery  British Columbia   \n",
       "\n",
       "     Brewery_Country Availability  ...        42        43        44  \\\n",
       "203           Canada     Rotating  ... -0.000247  0.113483  0.143018   \n",
       "358           Canada     Rotating  ...  0.019391  0.220452  0.175504   \n",
       "1509          Canada     Rotating  ... -0.000247  0.113483  0.143018   \n",
       "\n",
       "            45        46        47        48        49  \\\n",
       "203   0.138662  0.136150  0.117810  0.103413  0.209892   \n",
       "358   0.172911  0.052967  0.036433  0.154337  0.189932   \n",
       "1509  0.138662  0.136150  0.117810  0.103413  0.209892   \n",
       "\n",
       "                                         Beer + Brewery            Beer name_y  \n",
       "203           Original Gravity Haze - Driftwood Brewery  Original Gravity Haze  \n",
       "358   Original Pale Ale - Spinnakers Gastro Brewpub ...      Original Pale Ale  \n",
       "1509          Original Gravity Haze - Driftwood Brewery  Original Gravity Haze  \n",
       "\n",
       "[3 rows x 62 columns]"
      ]
     },
     "execution_count": 62,
     "metadata": {},
     "output_type": "execute_result"
    }
   ],
   "source": [
    "bc_beers_exploration[bc_beers_exploration[\"Beer name_x\"].str.contains(\"Original\")]"
   ]
  },
  {
   "cell_type": "code",
   "execution_count": 63,
   "metadata": {
    "scrolled": true
   },
   "outputs": [
    {
     "data": {
      "text/plain": [
       "Index([        'beer_id',     'Beer name_x',         'Brewery',\n",
       "                 'Style',             'ABV',           'Score',\n",
       "          'Brewery_Name',    'Brewery_City', 'Brewery_Country',\n",
       "          'Availability',                 0,                 1,\n",
       "                       2,                 3,                 4,\n",
       "                       5,                 6,                 7,\n",
       "                       8,                 9,                10,\n",
       "                      11,                12,                13,\n",
       "                      14,                15,                16,\n",
       "                      17,                18,                19,\n",
       "                      20,                21,                22,\n",
       "                      23,                24,                25,\n",
       "                      26,                27,                28,\n",
       "                      29,                30,                31,\n",
       "                      32,                33,                34,\n",
       "                      35,                36,                37,\n",
       "                      38,                39,                40,\n",
       "                      41,                42,                43,\n",
       "                      44,                45,                46,\n",
       "                      47,                48,                49,\n",
       "        'Beer + Brewery',     'Beer name_y'],\n",
       "      dtype='object')"
      ]
     },
     "execution_count": 63,
     "metadata": {},
     "output_type": "execute_result"
    }
   ],
   "source": [
    "bc_beers_exploration.columns"
   ]
  },
  {
   "cell_type": "code",
   "execution_count": 64,
   "metadata": {},
   "outputs": [],
   "source": [
    "bc_beers_exploration = bc_beers_exploration.drop_duplicates()"
   ]
  },
  {
   "cell_type": "code",
   "execution_count": 65,
   "metadata": {},
   "outputs": [
    {
     "data": {
      "text/plain": [
       "(1490, 62)"
      ]
     },
     "execution_count": 65,
     "metadata": {},
     "output_type": "execute_result"
    }
   ],
   "source": [
    "bc_beers_exploration.shape"
   ]
  },
  {
   "cell_type": "code",
   "execution_count": 66,
   "metadata": {},
   "outputs": [
    {
     "data": {
      "text/plain": [
       "0                                Biere De Garde\n",
       "1       Brews Brothers Hangin' Tough (Red Bock)\n",
       "2                          Bavarian Copper Bock\n",
       "3                                1897 Amber Ale\n",
       "4                          Bear Paw Honey Lager\n",
       "                         ...                   \n",
       "1506                                  Dat Juice\n",
       "1508     Haulin' Some Mass New England Hazy IPA\n",
       "1513                    Please Sir S’more Stout\n",
       "1514                            The Crawl Stout\n",
       "1517                                 Potts Pils\n",
       "Name: Beer name_x, Length: 1490, dtype: object"
      ]
     },
     "execution_count": 66,
     "metadata": {},
     "output_type": "execute_result"
    }
   ],
   "source": [
    "bc_beers_exploration.iloc[:,1]"
   ]
  },
  {
   "cell_type": "code",
   "execution_count": 67,
   "metadata": {},
   "outputs": [
    {
     "data": {
      "text/plain": [
       "1490"
      ]
     },
     "execution_count": 67,
     "metadata": {},
     "output_type": "execute_result"
    }
   ],
   "source": [
    "bc_beers_exploration.shape[0]"
   ]
  },
  {
   "cell_type": "code",
   "execution_count": 68,
   "metadata": {},
   "outputs": [
    {
     "data": {
      "text/plain": [
       "0      0.224072\n",
       "1      0.170482\n",
       "2      0.163907\n",
       "3      0.158978\n",
       "4      0.060176\n",
       "5      0.151671\n",
       "6      0.110635\n",
       "7     0.0874626\n",
       "8      0.190048\n",
       "9      0.100788\n",
       "10      0.13431\n",
       "11    0.0258912\n",
       "12     0.216229\n",
       "13     0.122845\n",
       "14    0.0773279\n",
       "15     0.157122\n",
       "16     0.178249\n",
       "17     0.143646\n",
       "18    0.0474493\n",
       "19     0.224847\n",
       "20     0.106929\n",
       "21    0.0449149\n",
       "22    0.0633994\n",
       "23    0.0645722\n",
       "24    0.0401176\n",
       "25    0.0370893\n",
       "26     0.203411\n",
       "27     0.206438\n",
       "28    0.0628882\n",
       "29     0.228188\n",
       "30     0.133797\n",
       "31     0.100912\n",
       "32      0.18005\n",
       "33    0.0391986\n",
       "34     0.157237\n",
       "35     0.121564\n",
       "36     0.103984\n",
       "37     0.197735\n",
       "38    0.0706153\n",
       "39     0.176708\n",
       "40    0.0856668\n",
       "41     0.178556\n",
       "42     0.210496\n",
       "43     0.188466\n",
       "44    0.0306864\n",
       "45    0.0398243\n",
       "46     0.189536\n",
       "47     0.147683\n",
       "48    0.0226907\n",
       "49     0.165004\n",
       "Name: 1, dtype: object"
      ]
     },
     "execution_count": 68,
     "metadata": {},
     "output_type": "execute_result"
    }
   ],
   "source": [
    "bc_beers_exploration.iloc[1,10:60]"
   ]
  },
  {
   "cell_type": "code",
   "execution_count": 69,
   "metadata": {},
   "outputs": [],
   "source": [
    "bc_beers_exploration.to_csv(\"bc_beers_final.csv\")"
   ]
  },
  {
   "cell_type": "code",
   "execution_count": 70,
   "metadata": {},
   "outputs": [],
   "source": [
    "def find_similarity(beer_name):\n",
    "    \"\"\"Recommends beers based on the cosine similarity between beers - BC Beers only\"\"\"\n",
    "    cosine_list = []\n",
    "    beer_name1 = []\n",
    "    beer_name2 = []\n",
    "\n",
    "    for i in range(0,bc_beers_exploration.shape[0]):\n",
    "        tent1 = bc_beers_exploration.iloc[i,10:60]\n",
    "        tent2 = bc_beers_exploration[bc_beers_exploration[\"Beer name_x\"] == beer_name]\n",
    "        tent3 = tent2.iloc[0,10:60]\n",
    "        cosine = np.dot(tent3,tent1)\n",
    "        \n",
    "        beer1 = tent2.iloc[0,1]\n",
    "        beer2 = bc_beers_exploration.iloc[i,1]\n",
    "        cosine_list.append(cosine)\n",
    "        beer_name1.append(beer1)\n",
    "        beer_name2.append(beer2)\n",
    "        \n",
    "        \n",
    "    cosine_df = pd.DataFrame({\"beer1\" : beer_name1, \"beer2\" : beer_name2, \"cosine\" : cosine_list})\n",
    "    cosine_df = cosine_df.sort_values(by=\"cosine\", ascending = False)\n",
    "    \n",
    "    return cosine_df.iloc[1:11,:]\n"
   ]
  },
  {
   "cell_type": "code",
   "execution_count": 71,
   "metadata": {},
   "outputs": [
    {
     "data": {
      "text/html": [
       "<div>\n",
       "<style scoped>\n",
       "    .dataframe tbody tr th:only-of-type {\n",
       "        vertical-align: middle;\n",
       "    }\n",
       "\n",
       "    .dataframe tbody tr th {\n",
       "        vertical-align: top;\n",
       "    }\n",
       "\n",
       "    .dataframe thead th {\n",
       "        text-align: right;\n",
       "    }\n",
       "</style>\n",
       "<table border=\"1\" class=\"dataframe\">\n",
       "  <thead>\n",
       "    <tr style=\"text-align: right;\">\n",
       "      <th></th>\n",
       "      <th>beer1</th>\n",
       "      <th>beer2</th>\n",
       "      <th>cosine</th>\n",
       "    </tr>\n",
       "  </thead>\n",
       "  <tbody>\n",
       "    <tr>\n",
       "      <th>360</th>\n",
       "      <td>Belgian Pale Ale</td>\n",
       "      <td>Lord Nelson's Pale Ale</td>\n",
       "      <td>0.890184</td>\n",
       "    </tr>\n",
       "    <tr>\n",
       "      <th>1437</th>\n",
       "      <td>Belgian Pale Ale</td>\n",
       "      <td>Chocolate Mint Brown Ale</td>\n",
       "      <td>0.887821</td>\n",
       "    </tr>\n",
       "    <tr>\n",
       "      <th>1312</th>\n",
       "      <td>Belgian Pale Ale</td>\n",
       "      <td>Nasty Habit IPA</td>\n",
       "      <td>0.878563</td>\n",
       "    </tr>\n",
       "    <tr>\n",
       "      <th>331</th>\n",
       "      <td>Belgian Pale Ale</td>\n",
       "      <td>Zunga</td>\n",
       "      <td>0.876150</td>\n",
       "    </tr>\n",
       "    <tr>\n",
       "      <th>652</th>\n",
       "      <td>Belgian Pale Ale</td>\n",
       "      <td>Psychosis 7 Double IPA</td>\n",
       "      <td>0.875824</td>\n",
       "    </tr>\n",
       "    <tr>\n",
       "      <th>1388</th>\n",
       "      <td>Belgian Pale Ale</td>\n",
       "      <td>West Coast IPA</td>\n",
       "      <td>0.874363</td>\n",
       "    </tr>\n",
       "    <tr>\n",
       "      <th>699</th>\n",
       "      <td>Belgian Pale Ale</td>\n",
       "      <td>Year Of The Unicorn</td>\n",
       "      <td>0.869870</td>\n",
       "    </tr>\n",
       "    <tr>\n",
       "      <th>1275</th>\n",
       "      <td>Belgian Pale Ale</td>\n",
       "      <td>Citradelic</td>\n",
       "      <td>0.868480</td>\n",
       "    </tr>\n",
       "    <tr>\n",
       "      <th>1110</th>\n",
       "      <td>Belgian Pale Ale</td>\n",
       "      <td>Mt. Prevost Porter</td>\n",
       "      <td>0.867938</td>\n",
       "    </tr>\n",
       "    <tr>\n",
       "      <th>824</th>\n",
       "      <td>Belgian Pale Ale</td>\n",
       "      <td>Goodnight Sweet Prince</td>\n",
       "      <td>0.865653</td>\n",
       "    </tr>\n",
       "  </tbody>\n",
       "</table>\n",
       "</div>"
      ],
      "text/plain": [
       "                 beer1                     beer2    cosine\n",
       "360   Belgian Pale Ale    Lord Nelson's Pale Ale  0.890184\n",
       "1437  Belgian Pale Ale  Chocolate Mint Brown Ale  0.887821\n",
       "1312  Belgian Pale Ale           Nasty Habit IPA  0.878563\n",
       "331   Belgian Pale Ale                     Zunga  0.876150\n",
       "652   Belgian Pale Ale    Psychosis 7 Double IPA  0.875824\n",
       "1388  Belgian Pale Ale            West Coast IPA  0.874363\n",
       "699   Belgian Pale Ale       Year Of The Unicorn  0.869870\n",
       "1275  Belgian Pale Ale                Citradelic  0.868480\n",
       "1110  Belgian Pale Ale        Mt. Prevost Porter  0.867938\n",
       "824   Belgian Pale Ale    Goodnight Sweet Prince  0.865653"
      ]
     },
     "execution_count": 71,
     "metadata": {},
     "output_type": "execute_result"
    }
   ],
   "source": [
    "find_similarity(\"Belgian Pale Ale\")"
   ]
  },
  {
   "cell_type": "code",
   "execution_count": 72,
   "metadata": {},
   "outputs": [
    {
     "data": {
      "text/html": [
       "<div>\n",
       "<style scoped>\n",
       "    .dataframe tbody tr th:only-of-type {\n",
       "        vertical-align: middle;\n",
       "    }\n",
       "\n",
       "    .dataframe tbody tr th {\n",
       "        vertical-align: top;\n",
       "    }\n",
       "\n",
       "    .dataframe thead th {\n",
       "        text-align: right;\n",
       "    }\n",
       "</style>\n",
       "<table border=\"1\" class=\"dataframe\">\n",
       "  <thead>\n",
       "    <tr style=\"text-align: right;\">\n",
       "      <th></th>\n",
       "      <th>beer_id</th>\n",
       "      <th>Beer name_x</th>\n",
       "      <th>Brewery</th>\n",
       "      <th>Style</th>\n",
       "      <th>ABV</th>\n",
       "      <th>Score</th>\n",
       "      <th>Brewery_Name</th>\n",
       "      <th>Brewery_City</th>\n",
       "      <th>Brewery_Country</th>\n",
       "      <th>Availability</th>\n",
       "      <th>...</th>\n",
       "      <th>42</th>\n",
       "      <th>43</th>\n",
       "      <th>44</th>\n",
       "      <th>45</th>\n",
       "      <th>46</th>\n",
       "      <th>47</th>\n",
       "      <th>48</th>\n",
       "      <th>49</th>\n",
       "      <th>Beer + Brewery</th>\n",
       "      <th>Beer name_y</th>\n",
       "    </tr>\n",
       "  </thead>\n",
       "  <tbody>\n",
       "    <tr>\n",
       "      <th>0</th>\n",
       "      <td>9609</td>\n",
       "      <td>Biere De Garde</td>\n",
       "      <td>Strange Fellows Brewing</td>\n",
       "      <td>French Bière de Garde</td>\n",
       "      <td>6.0</td>\n",
       "      <td>85.175407</td>\n",
       "      <td>Strange Fellows Brewing</td>\n",
       "      <td>British Columbia</td>\n",
       "      <td>Canada</td>\n",
       "      <td>Rotating</td>\n",
       "      <td>...</td>\n",
       "      <td>-0.043168</td>\n",
       "      <td>-0.027171</td>\n",
       "      <td>0.141263</td>\n",
       "      <td>0.180186</td>\n",
       "      <td>-0.069818</td>\n",
       "      <td>-0.098702</td>\n",
       "      <td>0.221338</td>\n",
       "      <td>0.011320</td>\n",
       "      <td>Biere De Garde - Strange Fellows Brewing</td>\n",
       "      <td>Biere De Garde</td>\n",
       "    </tr>\n",
       "    <tr>\n",
       "      <th>1</th>\n",
       "      <td>14633</td>\n",
       "      <td>Brews Brothers Hangin' Tough (Red Bock)</td>\n",
       "      <td>Parallel 49 Brewing Company</td>\n",
       "      <td>German Bock</td>\n",
       "      <td>7.0</td>\n",
       "      <td>85.175407</td>\n",
       "      <td>Parallel 49 Brewing Company</td>\n",
       "      <td>British Columbia</td>\n",
       "      <td>Canada</td>\n",
       "      <td>One-off</td>\n",
       "      <td>...</td>\n",
       "      <td>0.210496</td>\n",
       "      <td>0.188466</td>\n",
       "      <td>0.030686</td>\n",
       "      <td>0.039824</td>\n",
       "      <td>0.189536</td>\n",
       "      <td>0.147683</td>\n",
       "      <td>0.022691</td>\n",
       "      <td>0.165004</td>\n",
       "      <td>Brews Brothers Hangin' Tough (Red Bock) - Para...</td>\n",
       "      <td>Brews Brothers Hangin' Tough (Red Bock)</td>\n",
       "    </tr>\n",
       "    <tr>\n",
       "      <th>2</th>\n",
       "      <td>7943</td>\n",
       "      <td>Bavarian Copper Bock</td>\n",
       "      <td>CANOE Brewpub</td>\n",
       "      <td>German Bock</td>\n",
       "      <td>6.5</td>\n",
       "      <td>85.175407</td>\n",
       "      <td>CANOE Brewpub</td>\n",
       "      <td>British Columbia</td>\n",
       "      <td>Canada</td>\n",
       "      <td>Rotating</td>\n",
       "      <td>...</td>\n",
       "      <td>0.084515</td>\n",
       "      <td>0.043492</td>\n",
       "      <td>-0.016339</td>\n",
       "      <td>0.231458</td>\n",
       "      <td>0.182410</td>\n",
       "      <td>0.253689</td>\n",
       "      <td>0.182420</td>\n",
       "      <td>0.205988</td>\n",
       "      <td>Bavarian Copper Bock - CANOE Brewpub</td>\n",
       "      <td>Bavarian Copper Bock</td>\n",
       "    </tr>\n",
       "    <tr>\n",
       "      <th>3</th>\n",
       "      <td>619</td>\n",
       "      <td>1897 Amber Ale</td>\n",
       "      <td>Stanley Park Brewery</td>\n",
       "      <td>Belgian Pale Ale</td>\n",
       "      <td>5.1</td>\n",
       "      <td>77.000000</td>\n",
       "      <td>Stanley Park Brewery</td>\n",
       "      <td>British Columbia</td>\n",
       "      <td>Canada</td>\n",
       "      <td>Year-round</td>\n",
       "      <td>...</td>\n",
       "      <td>0.151326</td>\n",
       "      <td>0.056290</td>\n",
       "      <td>0.025795</td>\n",
       "      <td>0.134799</td>\n",
       "      <td>0.146627</td>\n",
       "      <td>0.186816</td>\n",
       "      <td>0.225694</td>\n",
       "      <td>0.062402</td>\n",
       "      <td>1897 Amber Ale - Stanley Park Brewery</td>\n",
       "      <td>1897 Amber Ale</td>\n",
       "    </tr>\n",
       "    <tr>\n",
       "      <th>4</th>\n",
       "      <td>8165</td>\n",
       "      <td>Bear Paw Honey Lager</td>\n",
       "      <td>Whistler Brewing Company</td>\n",
       "      <td>American Adjunct Lager</td>\n",
       "      <td>5.0</td>\n",
       "      <td>73.000000</td>\n",
       "      <td>Whistler Brewing Company</td>\n",
       "      <td>British Columbia</td>\n",
       "      <td>Canada</td>\n",
       "      <td>Year-round</td>\n",
       "      <td>...</td>\n",
       "      <td>0.107274</td>\n",
       "      <td>0.127383</td>\n",
       "      <td>0.035540</td>\n",
       "      <td>0.153133</td>\n",
       "      <td>0.111051</td>\n",
       "      <td>0.050091</td>\n",
       "      <td>0.173319</td>\n",
       "      <td>0.091482</td>\n",
       "      <td>Bear Paw Honey Lager - Whistler Brewing Company</td>\n",
       "      <td>Bear Paw Honey Lager</td>\n",
       "    </tr>\n",
       "  </tbody>\n",
       "</table>\n",
       "<p>5 rows × 62 columns</p>\n",
       "</div>"
      ],
      "text/plain": [
       "   beer_id                              Beer name_x  \\\n",
       "0     9609                           Biere De Garde   \n",
       "1    14633  Brews Brothers Hangin' Tough (Red Bock)   \n",
       "2     7943                     Bavarian Copper Bock   \n",
       "3      619                           1897 Amber Ale   \n",
       "4     8165                     Bear Paw Honey Lager   \n",
       "\n",
       "                       Brewery                   Style  ABV      Score  \\\n",
       "0      Strange Fellows Brewing   French Bière de Garde  6.0  85.175407   \n",
       "1  Parallel 49 Brewing Company             German Bock  7.0  85.175407   \n",
       "2                CANOE Brewpub             German Bock  6.5  85.175407   \n",
       "3         Stanley Park Brewery        Belgian Pale Ale  5.1  77.000000   \n",
       "4     Whistler Brewing Company  American Adjunct Lager  5.0  73.000000   \n",
       "\n",
       "                  Brewery_Name      Brewery_City Brewery_Country Availability  \\\n",
       "0      Strange Fellows Brewing  British Columbia          Canada     Rotating   \n",
       "1  Parallel 49 Brewing Company  British Columbia          Canada      One-off   \n",
       "2                CANOE Brewpub  British Columbia          Canada     Rotating   \n",
       "3         Stanley Park Brewery  British Columbia          Canada   Year-round   \n",
       "4     Whistler Brewing Company  British Columbia          Canada   Year-round   \n",
       "\n",
       "   ...        42        43        44        45        46        47        48  \\\n",
       "0  ... -0.043168 -0.027171  0.141263  0.180186 -0.069818 -0.098702  0.221338   \n",
       "1  ...  0.210496  0.188466  0.030686  0.039824  0.189536  0.147683  0.022691   \n",
       "2  ...  0.084515  0.043492 -0.016339  0.231458  0.182410  0.253689  0.182420   \n",
       "3  ...  0.151326  0.056290  0.025795  0.134799  0.146627  0.186816  0.225694   \n",
       "4  ...  0.107274  0.127383  0.035540  0.153133  0.111051  0.050091  0.173319   \n",
       "\n",
       "         49                                     Beer + Brewery  \\\n",
       "0  0.011320           Biere De Garde - Strange Fellows Brewing   \n",
       "1  0.165004  Brews Brothers Hangin' Tough (Red Bock) - Para...   \n",
       "2  0.205988               Bavarian Copper Bock - CANOE Brewpub   \n",
       "3  0.062402              1897 Amber Ale - Stanley Park Brewery   \n",
       "4  0.091482    Bear Paw Honey Lager - Whistler Brewing Company   \n",
       "\n",
       "                               Beer name_y  \n",
       "0                           Biere De Garde  \n",
       "1  Brews Brothers Hangin' Tough (Red Bock)  \n",
       "2                     Bavarian Copper Bock  \n",
       "3                           1897 Amber Ale  \n",
       "4                     Bear Paw Honey Lager  \n",
       "\n",
       "[5 rows x 62 columns]"
      ]
     },
     "execution_count": 72,
     "metadata": {},
     "output_type": "execute_result"
    }
   ],
   "source": [
    "bc_beers_exploration.head()"
   ]
  },
  {
   "cell_type": "markdown",
   "metadata": {},
   "source": [
    " - Savings embeddings to use the Google Embedding Projector\n",
    "    https://projector.tensorflow.org/"
   ]
  },
  {
   "cell_type": "code",
   "execution_count": 73,
   "metadata": {},
   "outputs": [],
   "source": [
    "beers_for_embedding_project = bc_beers_exploration.iloc[:,10:60]"
   ]
  },
  {
   "cell_type": "code",
   "execution_count": 74,
   "metadata": {},
   "outputs": [],
   "source": [
    "label_for_embedding_project = bc_beers_exploration.iloc[:,1]"
   ]
  },
  {
   "cell_type": "code",
   "execution_count": 75,
   "metadata": {},
   "outputs": [
    {
     "data": {
      "text/plain": [
       "0                                Biere De Garde\n",
       "1       Brews Brothers Hangin' Tough (Red Bock)\n",
       "2                          Bavarian Copper Bock\n",
       "3                                1897 Amber Ale\n",
       "4                          Bear Paw Honey Lager\n",
       "                         ...                   \n",
       "1506                                  Dat Juice\n",
       "1508     Haulin' Some Mass New England Hazy IPA\n",
       "1513                    Please Sir S’more Stout\n",
       "1514                            The Crawl Stout\n",
       "1517                                 Potts Pils\n",
       "Name: Beer name_x, Length: 1490, dtype: object"
      ]
     },
     "execution_count": 75,
     "metadata": {},
     "output_type": "execute_result"
    }
   ],
   "source": [
    "label_for_embedding_project"
   ]
  },
  {
   "cell_type": "code",
   "execution_count": 76,
   "metadata": {},
   "outputs": [
    {
     "data": {
      "text/plain": [
       "0         French Bière de Garde\n",
       "1                   German Bock\n",
       "2                   German Bock\n",
       "3              Belgian Pale Ale\n",
       "4        American Adjunct Lager\n",
       "                 ...           \n",
       "1506    American Pale Ale (APA)\n",
       "1508            New England IPA\n",
       "1513    American Imperial Stout\n",
       "1514             American Stout\n",
       "1517             German Pilsner\n",
       "Name: Style, Length: 1490, dtype: object"
      ]
     },
     "execution_count": 76,
     "metadata": {},
     "output_type": "execute_result"
    }
   ],
   "source": [
    "style_for_embedding_project = bc_beers_exploration.iloc[:,3]\n",
    "style_for_embedding_project"
   ]
  },
  {
   "cell_type": "code",
   "execution_count": 77,
   "metadata": {},
   "outputs": [],
   "source": [
    "#beers_for_embedding_project.to_csv(\"weights2.tsv\",sep='\\t', encoding='utf-8')"
   ]
  },
  {
   "cell_type": "code",
   "execution_count": 78,
   "metadata": {},
   "outputs": [],
   "source": [
    "#label_for_embedding_project.to_csv(\"labels2.tsv\",sep='\\t', encoding='utf-8')"
   ]
  },
  {
   "cell_type": "code",
   "execution_count": 79,
   "metadata": {},
   "outputs": [],
   "source": [
    "#style_for_embedding_project.to_csv(\"style.tsv\",sep='\\t', encoding='utf-8')"
   ]
  },
  {
   "cell_type": "markdown",
   "metadata": {},
   "source": [
    "### RECOMMENDATION FOR CURRENT USERS"
   ]
  },
  {
   "cell_type": "code",
   "execution_count": 80,
   "metadata": {},
   "outputs": [
    {
     "data": {
      "text/plain": [
       "Index(['beer_id', 'User_id', 'ratings'], dtype='object')"
      ]
     },
     "execution_count": 80,
     "metadata": {},
     "output_type": "execute_result"
    }
   ],
   "source": [
    "df_total.columns"
   ]
  },
  {
   "cell_type": "code",
   "execution_count": 81,
   "metadata": {},
   "outputs": [
    {
     "data": {
      "text/html": [
       "<div>\n",
       "<style scoped>\n",
       "    .dataframe tbody tr th:only-of-type {\n",
       "        vertical-align: middle;\n",
       "    }\n",
       "\n",
       "    .dataframe tbody tr th {\n",
       "        vertical-align: top;\n",
       "    }\n",
       "\n",
       "    .dataframe thead th {\n",
       "        text-align: right;\n",
       "    }\n",
       "</style>\n",
       "<table border=\"1\" class=\"dataframe\">\n",
       "  <thead>\n",
       "    <tr style=\"text-align: right;\">\n",
       "      <th></th>\n",
       "      <th>URL</th>\n",
       "      <th>Beer name</th>\n",
       "      <th>Brewery</th>\n",
       "      <th>Style</th>\n",
       "      <th>Style_Ranked</th>\n",
       "      <th>ABV</th>\n",
       "      <th>Score</th>\n",
       "      <th>Score_Ranked</th>\n",
       "      <th>Avg Rating</th>\n",
       "      <th>Reviews</th>\n",
       "      <th>...</th>\n",
       "      <th>Date Review</th>\n",
       "      <th>Look_rating</th>\n",
       "      <th>Smell_rating</th>\n",
       "      <th>tasting_rating</th>\n",
       "      <th>feel_rating</th>\n",
       "      <th>overall_rating</th>\n",
       "      <th>Username_id</th>\n",
       "      <th>Date of Review</th>\n",
       "      <th>Beer + Brewery</th>\n",
       "      <th>Beer_id</th>\n",
       "    </tr>\n",
       "  </thead>\n",
       "  <tbody>\n",
       "    <tr>\n",
       "      <th>0</th>\n",
       "      <td>https://www.beeradvocate.com/beer/profile/150/...</td>\n",
       "      <td>Stegmaier Brewhouse Bock</td>\n",
       "      <td>Lion Brewery, Inc.</td>\n",
       "      <td>German Bock</td>\n",
       "      <td>39.0</td>\n",
       "      <td>6.6</td>\n",
       "      <td>84.0</td>\n",
       "      <td>0.0</td>\n",
       "      <td>3.76</td>\n",
       "      <td>49</td>\n",
       "      <td>...</td>\n",
       "      <td>Sep 19, 2011</td>\n",
       "      <td>3.5</td>\n",
       "      <td>3.0</td>\n",
       "      <td>3.0</td>\n",
       "      <td>3.5</td>\n",
       "      <td>3.0</td>\n",
       "      <td>30162</td>\n",
       "      <td>2011-09-19</td>\n",
       "      <td>Stegmaier Brewhouse Bock - Lion Brewery, Inc.</td>\n",
       "      <td>84627</td>\n",
       "    </tr>\n",
       "    <tr>\n",
       "      <th>1</th>\n",
       "      <td>https://www.beeradvocate.com/beer/profile/150/...</td>\n",
       "      <td>Stegmaier Brewhouse Bock</td>\n",
       "      <td>Lion Brewery, Inc.</td>\n",
       "      <td>German Bock</td>\n",
       "      <td>39.0</td>\n",
       "      <td>6.6</td>\n",
       "      <td>84.0</td>\n",
       "      <td>0.0</td>\n",
       "      <td>3.76</td>\n",
       "      <td>49</td>\n",
       "      <td>...</td>\n",
       "      <td>Jun 11, 2011</td>\n",
       "      <td>3.5</td>\n",
       "      <td>3.0</td>\n",
       "      <td>3.0</td>\n",
       "      <td>3.0</td>\n",
       "      <td>3.5</td>\n",
       "      <td>11051</td>\n",
       "      <td>2011-06-11</td>\n",
       "      <td>Stegmaier Brewhouse Bock - Lion Brewery, Inc.</td>\n",
       "      <td>84627</td>\n",
       "    </tr>\n",
       "    <tr>\n",
       "      <th>2</th>\n",
       "      <td>https://www.beeradvocate.com/beer/profile/150/...</td>\n",
       "      <td>Stegmaier Brewhouse Bock</td>\n",
       "      <td>Lion Brewery, Inc.</td>\n",
       "      <td>German Bock</td>\n",
       "      <td>39.0</td>\n",
       "      <td>6.6</td>\n",
       "      <td>84.0</td>\n",
       "      <td>0.0</td>\n",
       "      <td>3.76</td>\n",
       "      <td>49</td>\n",
       "      <td>...</td>\n",
       "      <td>Sep 29, 2010</td>\n",
       "      <td>3.5</td>\n",
       "      <td>4.0</td>\n",
       "      <td>4.0</td>\n",
       "      <td>4.0</td>\n",
       "      <td>4.5</td>\n",
       "      <td>24945</td>\n",
       "      <td>2010-09-29</td>\n",
       "      <td>Stegmaier Brewhouse Bock - Lion Brewery, Inc.</td>\n",
       "      <td>84627</td>\n",
       "    </tr>\n",
       "    <tr>\n",
       "      <th>3</th>\n",
       "      <td>https://www.beeradvocate.com/beer/profile/150/...</td>\n",
       "      <td>Stegmaier Brewhouse Bock</td>\n",
       "      <td>Lion Brewery, Inc.</td>\n",
       "      <td>German Bock</td>\n",
       "      <td>39.0</td>\n",
       "      <td>6.6</td>\n",
       "      <td>84.0</td>\n",
       "      <td>0.0</td>\n",
       "      <td>3.76</td>\n",
       "      <td>49</td>\n",
       "      <td>...</td>\n",
       "      <td>Jun 29, 2010</td>\n",
       "      <td>3.5</td>\n",
       "      <td>3.0</td>\n",
       "      <td>3.5</td>\n",
       "      <td>3.5</td>\n",
       "      <td>3.5</td>\n",
       "      <td>30155</td>\n",
       "      <td>2010-06-29</td>\n",
       "      <td>Stegmaier Brewhouse Bock - Lion Brewery, Inc.</td>\n",
       "      <td>84627</td>\n",
       "    </tr>\n",
       "    <tr>\n",
       "      <th>4</th>\n",
       "      <td>https://www.beeradvocate.com/beer/profile/150/...</td>\n",
       "      <td>Stegmaier Brewhouse Bock</td>\n",
       "      <td>Lion Brewery, Inc.</td>\n",
       "      <td>German Bock</td>\n",
       "      <td>39.0</td>\n",
       "      <td>6.6</td>\n",
       "      <td>84.0</td>\n",
       "      <td>0.0</td>\n",
       "      <td>3.76</td>\n",
       "      <td>49</td>\n",
       "      <td>...</td>\n",
       "      <td>May 25, 2010</td>\n",
       "      <td>3.5</td>\n",
       "      <td>4.0</td>\n",
       "      <td>4.0</td>\n",
       "      <td>4.0</td>\n",
       "      <td>4.5</td>\n",
       "      <td>30731</td>\n",
       "      <td>2010-05-25</td>\n",
       "      <td>Stegmaier Brewhouse Bock - Lion Brewery, Inc.</td>\n",
       "      <td>84627</td>\n",
       "    </tr>\n",
       "  </tbody>\n",
       "</table>\n",
       "<p>5 rows × 31 columns</p>\n",
       "</div>"
      ],
      "text/plain": [
       "                                                 URL  \\\n",
       "0  https://www.beeradvocate.com/beer/profile/150/...   \n",
       "1  https://www.beeradvocate.com/beer/profile/150/...   \n",
       "2  https://www.beeradvocate.com/beer/profile/150/...   \n",
       "3  https://www.beeradvocate.com/beer/profile/150/...   \n",
       "4  https://www.beeradvocate.com/beer/profile/150/...   \n",
       "\n",
       "                  Beer name             Brewery        Style  Style_Ranked  \\\n",
       "0  Stegmaier Brewhouse Bock  Lion Brewery, Inc.  German Bock          39.0   \n",
       "1  Stegmaier Brewhouse Bock  Lion Brewery, Inc.  German Bock          39.0   \n",
       "2  Stegmaier Brewhouse Bock  Lion Brewery, Inc.  German Bock          39.0   \n",
       "3  Stegmaier Brewhouse Bock  Lion Brewery, Inc.  German Bock          39.0   \n",
       "4  Stegmaier Brewhouse Bock  Lion Brewery, Inc.  German Bock          39.0   \n",
       "\n",
       "   ABV  Score  Score_Ranked  Avg Rating  Reviews  ...   Date Review  \\\n",
       "0  6.6   84.0           0.0        3.76       49  ...  Sep 19, 2011   \n",
       "1  6.6   84.0           0.0        3.76       49  ...  Jun 11, 2011   \n",
       "2  6.6   84.0           0.0        3.76       49  ...  Sep 29, 2010   \n",
       "3  6.6   84.0           0.0        3.76       49  ...  Jun 29, 2010   \n",
       "4  6.6   84.0           0.0        3.76       49  ...  May 25, 2010   \n",
       "\n",
       "  Look_rating Smell_rating tasting_rating feel_rating  overall_rating  \\\n",
       "0         3.5          3.0            3.0         3.5             3.0   \n",
       "1         3.5          3.0            3.0         3.0             3.5   \n",
       "2         3.5          4.0            4.0         4.0             4.5   \n",
       "3         3.5          3.0            3.5         3.5             3.5   \n",
       "4         3.5          4.0            4.0         4.0             4.5   \n",
       "\n",
       "   Username_id  Date of Review                                 Beer + Brewery  \\\n",
       "0        30162      2011-09-19  Stegmaier Brewhouse Bock - Lion Brewery, Inc.   \n",
       "1        11051      2011-06-11  Stegmaier Brewhouse Bock - Lion Brewery, Inc.   \n",
       "2        24945      2010-09-29  Stegmaier Brewhouse Bock - Lion Brewery, Inc.   \n",
       "3        30155      2010-06-29  Stegmaier Brewhouse Bock - Lion Brewery, Inc.   \n",
       "4        30731      2010-05-25  Stegmaier Brewhouse Bock - Lion Brewery, Inc.   \n",
       "\n",
       "  Beer_id  \n",
       "0   84627  \n",
       "1   84627  \n",
       "2   84627  \n",
       "3   84627  \n",
       "4   84627  \n",
       "\n",
       "[5 rows x 31 columns]"
      ]
     },
     "execution_count": 81,
     "metadata": {},
     "output_type": "execute_result"
    }
   ],
   "source": [
    "beer_df.head()"
   ]
  },
  {
   "cell_type": "code",
   "execution_count": 82,
   "metadata": {},
   "outputs": [
    {
     "data": {
      "text/plain": [
       "(1448216, 31)"
      ]
     },
     "execution_count": 82,
     "metadata": {},
     "output_type": "execute_result"
    }
   ],
   "source": [
    "beer_df.shape"
   ]
  },
  {
   "cell_type": "code",
   "execution_count": 83,
   "metadata": {},
   "outputs": [],
   "source": [
    "all_beers = beer_df.iloc[:,30]\n",
    "all_beers = df_total[\"beer_id\"].unique()"
   ]
  },
  {
   "cell_type": "code",
   "execution_count": 84,
   "metadata": {},
   "outputs": [
    {
     "data": {
      "text/plain": [
       "36137"
      ]
     },
     "execution_count": 84,
     "metadata": {},
     "output_type": "execute_result"
    }
   ],
   "source": [
    "all_users = beer_df[\"Username_id\"].unique()\n",
    "beer_df[\"Username_id\"].nunique()"
   ]
  },
  {
   "cell_type": "code",
   "execution_count": 85,
   "metadata": {},
   "outputs": [
    {
     "data": {
      "text/plain": [
       "(36137,)"
      ]
     },
     "execution_count": 85,
     "metadata": {},
     "output_type": "execute_result"
    }
   ],
   "source": [
    "all_users.shape"
   ]
  },
  {
   "cell_type": "code",
   "execution_count": 86,
   "metadata": {},
   "outputs": [
    {
     "data": {
      "text/html": [
       "<div>\n",
       "<style scoped>\n",
       "    .dataframe tbody tr th:only-of-type {\n",
       "        vertical-align: middle;\n",
       "    }\n",
       "\n",
       "    .dataframe tbody tr th {\n",
       "        vertical-align: top;\n",
       "    }\n",
       "\n",
       "    .dataframe thead th {\n",
       "        text-align: right;\n",
       "    }\n",
       "</style>\n",
       "<table border=\"1\" class=\"dataframe\">\n",
       "  <thead>\n",
       "    <tr style=\"text-align: right;\">\n",
       "      <th></th>\n",
       "      <th>beer_id</th>\n",
       "      <th>User_id</th>\n",
       "      <th>ratings</th>\n",
       "    </tr>\n",
       "  </thead>\n",
       "  <tbody>\n",
       "    <tr>\n",
       "      <th>0</th>\n",
       "      <td>84627</td>\n",
       "      <td>30162</td>\n",
       "      <td>3.08</td>\n",
       "    </tr>\n",
       "    <tr>\n",
       "      <th>1</th>\n",
       "      <td>84627</td>\n",
       "      <td>11051</td>\n",
       "      <td>3.13</td>\n",
       "    </tr>\n",
       "    <tr>\n",
       "      <th>2</th>\n",
       "      <td>84627</td>\n",
       "      <td>24945</td>\n",
       "      <td>4.07</td>\n",
       "    </tr>\n",
       "    <tr>\n",
       "      <th>3</th>\n",
       "      <td>84627</td>\n",
       "      <td>30155</td>\n",
       "      <td>3.38</td>\n",
       "    </tr>\n",
       "    <tr>\n",
       "      <th>4</th>\n",
       "      <td>84627</td>\n",
       "      <td>30731</td>\n",
       "      <td>4.07</td>\n",
       "    </tr>\n",
       "  </tbody>\n",
       "</table>\n",
       "</div>"
      ],
      "text/plain": [
       "   beer_id  User_id  ratings\n",
       "0    84627    30162     3.08\n",
       "1    84627    11051     3.13\n",
       "2    84627    24945     4.07\n",
       "3    84627    30155     3.38\n",
       "4    84627    30731     4.07"
      ]
     },
     "execution_count": 86,
     "metadata": {},
     "output_type": "execute_result"
    }
   ],
   "source": [
    "df_total.head()"
   ]
  },
  {
   "cell_type": "code",
   "execution_count": 87,
   "metadata": {},
   "outputs": [],
   "source": [
    "beer_total = beer_df[['Beer name','Brewery', 'Style','ABV', \"Beer_id\"]].copy()\n",
    "beer_total = beer_total.drop_duplicates()"
   ]
  },
  {
   "cell_type": "code",
   "execution_count": 88,
   "metadata": {},
   "outputs": [],
   "source": [
    "def recommend(user_name):\n",
    "    usernames = []\n",
    "    beer_name2 = []\n",
    "    ratings_list = []\n",
    "    all_beers = df_total[\"beer_id\"].unique()\n",
    "\n",
    "    dataset = df_total.loc[df_total[\"User_id\"] == user_name]\n",
    "    trial = dataset[\"beer_id\"].unique()\n",
    "    \n",
    "    \n",
    "    for beer in all_beers:\n",
    "        if beer in trial:\n",
    "            continue\n",
    "        else:\n",
    "            usernames.append(user_name)\n",
    "            beer_name2.append(beer)\n",
    "    \n",
    "    \n",
    "    list_data = pd.DataFrame({\"Beer_id\" : beer_name2, \"User\" : usernames})\n",
    "    ratings = nn.predict([list_data.User,list_data.Beer_id])\n",
    "    ratings_list.append(ratings)\n",
    "    \n",
    "    list_data[\"ratings\"] = ratings\n",
    "    list_data = list_data.sort_values(by = \"ratings\", ascending = False)\n",
    "    list_data_total = list_data.merge(beer_total, on= \"Beer_id\", how = \"left\")\n",
    "    recommendation = list_data_total[[\"Beer_id\",\"Beer name\", \"Brewery\", \"Style\", \"ABV\", \"ratings\"]].copy()\n",
    "    recommendation.columns = [ \"Beer_id\",\"Beer\", \"Brewery\", \"Style\", \"ABV\", \"Ratings\"]\n",
    "    recommendation = recommendation.sort_values(by = \"Ratings\",ascending = False)\n",
    "    to_recommend = recommendation[recommendation[\"Ratings\"] > 4.00]\n",
    "    recommendation_final = to_recommend.loc[np.random.choice(to_recommend.index, size=10)]\n",
    "    recommendation_final = recommendation_final.sort_values(by=\"Ratings\",ascending = False)\n",
    "    return recommendation_final\n",
    "    "
   ]
  },
  {
   "cell_type": "code",
   "execution_count": 89,
   "metadata": {},
   "outputs": [
    {
     "data": {
      "text/html": [
       "<div>\n",
       "<style scoped>\n",
       "    .dataframe tbody tr th:only-of-type {\n",
       "        vertical-align: middle;\n",
       "    }\n",
       "\n",
       "    .dataframe tbody tr th {\n",
       "        vertical-align: top;\n",
       "    }\n",
       "\n",
       "    .dataframe thead th {\n",
       "        text-align: right;\n",
       "    }\n",
       "</style>\n",
       "<table border=\"1\" class=\"dataframe\">\n",
       "  <thead>\n",
       "    <tr style=\"text-align: right;\">\n",
       "      <th></th>\n",
       "      <th>Beer_id</th>\n",
       "      <th>Beer</th>\n",
       "      <th>Brewery</th>\n",
       "      <th>Style</th>\n",
       "      <th>ABV</th>\n",
       "      <th>Ratings</th>\n",
       "    </tr>\n",
       "  </thead>\n",
       "  <tbody>\n",
       "    <tr>\n",
       "      <th>1144</th>\n",
       "      <td>25227</td>\n",
       "      <td>Devil's Teeth - Bourbon Barrel-Aged</td>\n",
       "      <td>Modern Times Beer</td>\n",
       "      <td>English Old Ale</td>\n",
       "      <td>11.0</td>\n",
       "      <td>4.200670</td>\n",
       "    </tr>\n",
       "    <tr>\n",
       "      <th>1427</th>\n",
       "      <td>39642</td>\n",
       "      <td>He Died With His Boots On</td>\n",
       "      <td>Steady Habit Brewing Company</td>\n",
       "      <td>American Imperial IPA</td>\n",
       "      <td>8.0</td>\n",
       "      <td>4.183651</td>\n",
       "    </tr>\n",
       "    <tr>\n",
       "      <th>2757</th>\n",
       "      <td>33575</td>\n",
       "      <td>Fraternal Order of the Armadillo</td>\n",
       "      <td>Maplewood Brewery &amp; Distillery</td>\n",
       "      <td>New England IPA</td>\n",
       "      <td>8.0</td>\n",
       "      <td>4.129158</td>\n",
       "    </tr>\n",
       "    <tr>\n",
       "      <th>4195</th>\n",
       "      <td>62590</td>\n",
       "      <td>Oak Aged Bretta</td>\n",
       "      <td>Logsdon Farmhouse Ales</td>\n",
       "      <td>Belgian Saison</td>\n",
       "      <td>8.0</td>\n",
       "      <td>4.090772</td>\n",
       "    </tr>\n",
       "    <tr>\n",
       "      <th>4910</th>\n",
       "      <td>43085</td>\n",
       "      <td>Hopulence</td>\n",
       "      <td>Wormtown Brewery</td>\n",
       "      <td>American Imperial IPA</td>\n",
       "      <td>8.5</td>\n",
       "      <td>4.075736</td>\n",
       "    </tr>\n",
       "    <tr>\n",
       "      <th>5533</th>\n",
       "      <td>45524</td>\n",
       "      <td>India Hells Lager</td>\n",
       "      <td>Camden Town Brewery</td>\n",
       "      <td>German Helles</td>\n",
       "      <td>6.2</td>\n",
       "      <td>4.064083</td>\n",
       "    </tr>\n",
       "    <tr>\n",
       "      <th>6772</th>\n",
       "      <td>37609</td>\n",
       "      <td>Green Man The Dweller</td>\n",
       "      <td>Green Man Brewery</td>\n",
       "      <td>American Imperial Stout</td>\n",
       "      <td>9.5</td>\n",
       "      <td>4.044355</td>\n",
       "    </tr>\n",
       "    <tr>\n",
       "      <th>8033</th>\n",
       "      <td>23222</td>\n",
       "      <td>DDH Down Under Bomb</td>\n",
       "      <td>Sloop Brewing</td>\n",
       "      <td>American IPA</td>\n",
       "      <td>6.5</td>\n",
       "      <td>4.026650</td>\n",
       "    </tr>\n",
       "    <tr>\n",
       "      <th>9355</th>\n",
       "      <td>88443</td>\n",
       "      <td>That 70s Simcoe</td>\n",
       "      <td>Sisyphus Brewing</td>\n",
       "      <td>American IPA</td>\n",
       "      <td>6.5</td>\n",
       "      <td>4.010731</td>\n",
       "    </tr>\n",
       "    <tr>\n",
       "      <th>10265</th>\n",
       "      <td>25379</td>\n",
       "      <td>Did We Just Become Best Friends? (Citra &amp; Motu...</td>\n",
       "      <td>Hoof Hearted Brewing</td>\n",
       "      <td>New England IPA</td>\n",
       "      <td>8.0</td>\n",
       "      <td>4.000542</td>\n",
       "    </tr>\n",
       "  </tbody>\n",
       "</table>\n",
       "</div>"
      ],
      "text/plain": [
       "       Beer_id                                               Beer  \\\n",
       "1144     25227                Devil's Teeth - Bourbon Barrel-Aged   \n",
       "1427     39642                          He Died With His Boots On   \n",
       "2757     33575                   Fraternal Order of the Armadillo   \n",
       "4195     62590                                    Oak Aged Bretta   \n",
       "4910     43085                                          Hopulence   \n",
       "5533     45524                                  India Hells Lager   \n",
       "6772     37609                              Green Man The Dweller   \n",
       "8033     23222                                DDH Down Under Bomb   \n",
       "9355     88443                                    That 70s Simcoe   \n",
       "10265    25379  Did We Just Become Best Friends? (Citra & Motu...   \n",
       "\n",
       "                              Brewery                    Style   ABV   Ratings  \n",
       "1144                Modern Times Beer          English Old Ale  11.0  4.200670  \n",
       "1427     Steady Habit Brewing Company    American Imperial IPA   8.0  4.183651  \n",
       "2757   Maplewood Brewery & Distillery          New England IPA   8.0  4.129158  \n",
       "4195           Logsdon Farmhouse Ales           Belgian Saison   8.0  4.090772  \n",
       "4910                 Wormtown Brewery    American Imperial IPA   8.5  4.075736  \n",
       "5533              Camden Town Brewery            German Helles   6.2  4.064083  \n",
       "6772                Green Man Brewery  American Imperial Stout   9.5  4.044355  \n",
       "8033                    Sloop Brewing             American IPA   6.5  4.026650  \n",
       "9355                 Sisyphus Brewing             American IPA   6.5  4.010731  \n",
       "10265            Hoof Hearted Brewing          New England IPA   8.0  4.000542  "
      ]
     },
     "execution_count": 89,
     "metadata": {},
     "output_type": "execute_result"
    }
   ],
   "source": [
    "recommend(4579)"
   ]
  },
  {
   "cell_type": "code",
   "execution_count": 90,
   "metadata": {},
   "outputs": [
    {
     "data": {
      "text/html": [
       "<div>\n",
       "<style scoped>\n",
       "    .dataframe tbody tr th:only-of-type {\n",
       "        vertical-align: middle;\n",
       "    }\n",
       "\n",
       "    .dataframe tbody tr th {\n",
       "        vertical-align: top;\n",
       "    }\n",
       "\n",
       "    .dataframe thead th {\n",
       "        text-align: right;\n",
       "    }\n",
       "</style>\n",
       "<table border=\"1\" class=\"dataframe\">\n",
       "  <thead>\n",
       "    <tr style=\"text-align: right;\">\n",
       "      <th></th>\n",
       "      <th>Beer name</th>\n",
       "      <th>Style</th>\n",
       "      <th>ABV</th>\n",
       "      <th>User Score</th>\n",
       "    </tr>\n",
       "  </thead>\n",
       "  <tbody>\n",
       "    <tr>\n",
       "      <th>195042</th>\n",
       "      <td>Oh My My</td>\n",
       "      <td>Russian Imperial Stout</td>\n",
       "      <td>13.0</td>\n",
       "      <td>4.18</td>\n",
       "    </tr>\n",
       "    <tr>\n",
       "      <th>356661</th>\n",
       "      <td>#ISO</td>\n",
       "      <td>American Imperial IPA</td>\n",
       "      <td>10.3</td>\n",
       "      <td>4.05</td>\n",
       "    </tr>\n",
       "    <tr>\n",
       "      <th>225954</th>\n",
       "      <td>Black Tulip</td>\n",
       "      <td>Belgian Tripel</td>\n",
       "      <td>9.0</td>\n",
       "      <td>4.00</td>\n",
       "    </tr>\n",
       "    <tr>\n",
       "      <th>34727</th>\n",
       "      <td>574 Pale Ale</td>\n",
       "      <td>American Pale Ale (APA)</td>\n",
       "      <td>6.0</td>\n",
       "      <td>3.87</td>\n",
       "    </tr>\n",
       "    <tr>\n",
       "      <th>304644</th>\n",
       "      <td>HB Oktoberfest</td>\n",
       "      <td>German Märzen / Oktoberfest</td>\n",
       "      <td>6.3</td>\n",
       "      <td>3.81</td>\n",
       "    </tr>\n",
       "    <tr>\n",
       "      <th>545423</th>\n",
       "      <td>Oil of Aphrodite (Bourbon Barrel-Aged)</td>\n",
       "      <td>American Imperial Stout</td>\n",
       "      <td>11.5</td>\n",
       "      <td>3.40</td>\n",
       "    </tr>\n",
       "  </tbody>\n",
       "</table>\n",
       "</div>"
      ],
      "text/plain": [
       "                                     Beer name                        Style  \\\n",
       "195042                                Oh My My       Russian Imperial Stout   \n",
       "356661                                    #ISO        American Imperial IPA   \n",
       "225954                             Black Tulip               Belgian Tripel   \n",
       "34727                             574 Pale Ale      American Pale Ale (APA)   \n",
       "304644                          HB Oktoberfest  German Märzen / Oktoberfest   \n",
       "545423  Oil of Aphrodite (Bourbon Barrel-Aged)      American Imperial Stout   \n",
       "\n",
       "         ABV  User Score  \n",
       "195042  13.0        4.18  \n",
       "356661  10.3        4.05  \n",
       "225954   9.0        4.00  \n",
       "34727    6.0        3.87  \n",
       "304644   6.3        3.81  \n",
       "545423  11.5        3.40  "
      ]
     },
     "execution_count": 90,
     "metadata": {},
     "output_type": "execute_result"
    }
   ],
   "source": [
    "user_4579 = beer_df[beer_df[\"Username_id\"] == 4579]\n",
    "user_4579[['Beer name', 'Style','ABV', 'User Score']].sort_values(by = \"User Score\",ascending = False).drop_duplicates()"
   ]
  },
  {
   "cell_type": "markdown",
   "metadata": {},
   "source": [
    "## EXTRA: MODEL PREDICTIONS EVALUATION"
   ]
  },
  {
   "cell_type": "code",
   "execution_count": 91,
   "metadata": {},
   "outputs": [
    {
     "data": {
      "text/plain": [
       "(array([6.7228e+04, 1.2314e+04, 5.2350e+03, 2.9820e+03, 1.1628e+04,\n",
       "        1.0420e+03, 2.0000e+01, 2.0000e+00, 1.0000e+00, 4.0000e+00]),\n",
       " array([ 1. ,  5.9, 10.8, 15.7, 20.6, 25.5, 30.4, 35.3, 40.2, 45.1, 50. ]),\n",
       " <a list of 10 Patch objects>)"
      ]
     },
     "execution_count": 91,
     "metadata": {},
     "output_type": "execute_result"
    },
    {
     "data": {
      "image/png": "[encoded data removed]",
      "text/plain": [
       "<Figure size 432x288 with 1 Axes>"
      ]
     },
     "metadata": {
      "needs_background": "light"
     },
     "output_type": "display_data"
    }
   ],
   "source": [
    "plt.hist(df_total[\"beer_id\"].value_counts())"
   ]
  },
  {
   "cell_type": "code",
   "execution_count": 92,
   "metadata": {},
   "outputs": [
    {
     "data": {
      "text/html": [
       "<div>\n",
       "<style scoped>\n",
       "    .dataframe tbody tr th:only-of-type {\n",
       "        vertical-align: middle;\n",
       "    }\n",
       "\n",
       "    .dataframe tbody tr th {\n",
       "        vertical-align: top;\n",
       "    }\n",
       "\n",
       "    .dataframe thead th {\n",
       "        text-align: right;\n",
       "    }\n",
       "</style>\n",
       "<table border=\"1\" class=\"dataframe\">\n",
       "  <thead>\n",
       "    <tr style=\"text-align: right;\">\n",
       "      <th></th>\n",
       "      <th>beer_id</th>\n",
       "      <th>Number of ratings</th>\n",
       "    </tr>\n",
       "  </thead>\n",
       "  <tbody>\n",
       "    <tr>\n",
       "      <th>0</th>\n",
       "      <td>1159</td>\n",
       "      <td>50</td>\n",
       "    </tr>\n",
       "    <tr>\n",
       "      <th>1</th>\n",
       "      <td>84010</td>\n",
       "      <td>50</td>\n",
       "    </tr>\n",
       "    <tr>\n",
       "      <th>2</th>\n",
       "      <td>94854</td>\n",
       "      <td>47</td>\n",
       "    </tr>\n",
       "    <tr>\n",
       "      <th>3</th>\n",
       "      <td>57162</td>\n",
       "      <td>46</td>\n",
       "    </tr>\n",
       "    <tr>\n",
       "      <th>4</th>\n",
       "      <td>69228</td>\n",
       "      <td>43</td>\n",
       "    </tr>\n",
       "  </tbody>\n",
       "</table>\n",
       "</div>"
      ],
      "text/plain": [
       "   beer_id  Number of ratings\n",
       "0     1159                 50\n",
       "1    84010                 50\n",
       "2    94854                 47\n",
       "3    57162                 46\n",
       "4    69228                 43"
      ]
     },
     "execution_count": 92,
     "metadata": {},
     "output_type": "execute_result"
    }
   ],
   "source": [
    "count_ratings = df_total[\"beer_id\"].value_counts()\n",
    "count_ratings2 = count_ratings.to_frame()\n",
    "count_ratings2 = count_ratings2.reset_index()\n",
    "count_ratings2.columns = [\"beer_id\", \"Number of ratings\"]\n",
    "count_ratings2.head()"
   ]
  },
  {
   "cell_type": "code",
   "execution_count": 93,
   "metadata": {},
   "outputs": [],
   "source": [
    "mean_rating = df_total[\"User_id\"]"
   ]
  },
  {
   "cell_type": "code",
   "execution_count": 94,
   "metadata": {},
   "outputs": [],
   "source": [
    "scores = df_total[[\"User_id\",\"beer_id\"]].copy()"
   ]
  },
  {
   "cell_type": "code",
   "execution_count": 95,
   "metadata": {},
   "outputs": [
    {
     "data": {
      "text/html": [
       "<div>\n",
       "<style scoped>\n",
       "    .dataframe tbody tr th:only-of-type {\n",
       "        vertical-align: middle;\n",
       "    }\n",
       "\n",
       "    .dataframe tbody tr th {\n",
       "        vertical-align: top;\n",
       "    }\n",
       "\n",
       "    .dataframe thead th {\n",
       "        text-align: right;\n",
       "    }\n",
       "</style>\n",
       "<table border=\"1\" class=\"dataframe\">\n",
       "  <thead>\n",
       "    <tr style=\"text-align: right;\">\n",
       "      <th></th>\n",
       "      <th>User_id</th>\n",
       "      <th>beer_id</th>\n",
       "    </tr>\n",
       "  </thead>\n",
       "  <tbody>\n",
       "    <tr>\n",
       "      <th>count</th>\n",
       "      <td>678042.000000</td>\n",
       "      <td>678042.000000</td>\n",
       "    </tr>\n",
       "    <tr>\n",
       "      <th>mean</th>\n",
       "      <td>18889.066574</td>\n",
       "      <td>50330.695028</td>\n",
       "    </tr>\n",
       "    <tr>\n",
       "      <th>std</th>\n",
       "      <td>10461.457343</td>\n",
       "      <td>28767.316855</td>\n",
       "    </tr>\n",
       "    <tr>\n",
       "      <th>min</th>\n",
       "      <td>0.000000</td>\n",
       "      <td>0.000000</td>\n",
       "    </tr>\n",
       "    <tr>\n",
       "      <th>25%</th>\n",
       "      <td>9745.000000</td>\n",
       "      <td>25604.000000</td>\n",
       "    </tr>\n",
       "    <tr>\n",
       "      <th>50%</th>\n",
       "      <td>19291.000000</td>\n",
       "      <td>50352.000000</td>\n",
       "    </tr>\n",
       "    <tr>\n",
       "      <th>75%</th>\n",
       "      <td>28063.000000</td>\n",
       "      <td>75259.000000</td>\n",
       "    </tr>\n",
       "    <tr>\n",
       "      <th>max</th>\n",
       "      <td>36136.000000</td>\n",
       "      <td>100455.000000</td>\n",
       "    </tr>\n",
       "  </tbody>\n",
       "</table>\n",
       "</div>"
      ],
      "text/plain": [
       "             User_id        beer_id\n",
       "count  678042.000000  678042.000000\n",
       "mean    18889.066574   50330.695028\n",
       "std     10461.457343   28767.316855\n",
       "min         0.000000       0.000000\n",
       "25%      9745.000000   25604.000000\n",
       "50%     19291.000000   50352.000000\n",
       "75%     28063.000000   75259.000000\n",
       "max     36136.000000  100455.000000"
      ]
     },
     "execution_count": 95,
     "metadata": {},
     "output_type": "execute_result"
    }
   ],
   "source": [
    "scores.describe()"
   ]
  },
  {
   "cell_type": "code",
   "execution_count": 96,
   "metadata": {},
   "outputs": [],
   "source": [
    "average_ratings = scores.groupby([\"beer_id\"]).agg([\"mean\"])"
   ]
  },
  {
   "cell_type": "code",
   "execution_count": 97,
   "metadata": {},
   "outputs": [
    {
     "data": {
      "text/html": [
       "<div>\n",
       "<style scoped>\n",
       "    .dataframe tbody tr th:only-of-type {\n",
       "        vertical-align: middle;\n",
       "    }\n",
       "\n",
       "    .dataframe tbody tr th {\n",
       "        vertical-align: top;\n",
       "    }\n",
       "\n",
       "    .dataframe thead tr th {\n",
       "        text-align: left;\n",
       "    }\n",
       "</style>\n",
       "<table border=\"1\" class=\"dataframe\">\n",
       "  <thead>\n",
       "    <tr>\n",
       "      <th></th>\n",
       "      <th>beer_id</th>\n",
       "      <th>User_id</th>\n",
       "    </tr>\n",
       "    <tr>\n",
       "      <th></th>\n",
       "      <th></th>\n",
       "      <th>mean</th>\n",
       "    </tr>\n",
       "  </thead>\n",
       "  <tbody>\n",
       "    <tr>\n",
       "      <th>0</th>\n",
       "      <td>0</td>\n",
       "      <td>11184.0</td>\n",
       "    </tr>\n",
       "    <tr>\n",
       "      <th>1</th>\n",
       "      <td>1</td>\n",
       "      <td>6392.0</td>\n",
       "    </tr>\n",
       "    <tr>\n",
       "      <th>2</th>\n",
       "      <td>2</td>\n",
       "      <td>28133.0</td>\n",
       "    </tr>\n",
       "    <tr>\n",
       "      <th>3</th>\n",
       "      <td>3</td>\n",
       "      <td>28133.0</td>\n",
       "    </tr>\n",
       "    <tr>\n",
       "      <th>4</th>\n",
       "      <td>4</td>\n",
       "      <td>22586.5</td>\n",
       "    </tr>\n",
       "  </tbody>\n",
       "</table>\n",
       "</div>"
      ],
      "text/plain": [
       "  beer_id  User_id\n",
       "              mean\n",
       "0       0  11184.0\n",
       "1       1   6392.0\n",
       "2       2  28133.0\n",
       "3       3  28133.0\n",
       "4       4  22586.5"
      ]
     },
     "execution_count": 97,
     "metadata": {},
     "output_type": "execute_result"
    }
   ],
   "source": [
    "average_ratings = average_ratings.reset_index()\n",
    "average_ratings.head()"
   ]
  },
  {
   "cell_type": "code",
   "execution_count": 98,
   "metadata": {},
   "outputs": [],
   "source": [
    "average_ratings.columns = [\"beer_id\", \"Mean_ratings\"]"
   ]
  },
  {
   "cell_type": "code",
   "execution_count": 99,
   "metadata": {},
   "outputs": [
    {
     "data": {
      "text/html": [
       "<div>\n",
       "<style scoped>\n",
       "    .dataframe tbody tr th:only-of-type {\n",
       "        vertical-align: middle;\n",
       "    }\n",
       "\n",
       "    .dataframe tbody tr th {\n",
       "        vertical-align: top;\n",
       "    }\n",
       "\n",
       "    .dataframe thead th {\n",
       "        text-align: right;\n",
       "    }\n",
       "</style>\n",
       "<table border=\"1\" class=\"dataframe\">\n",
       "  <thead>\n",
       "    <tr style=\"text-align: right;\">\n",
       "      <th></th>\n",
       "      <th>beer_id</th>\n",
       "      <th>Mean_ratings</th>\n",
       "      <th>Number of ratings</th>\n",
       "    </tr>\n",
       "  </thead>\n",
       "  <tbody>\n",
       "    <tr>\n",
       "      <th>0</th>\n",
       "      <td>0</td>\n",
       "      <td>11184.0</td>\n",
       "      <td>7</td>\n",
       "    </tr>\n",
       "    <tr>\n",
       "      <th>1</th>\n",
       "      <td>1</td>\n",
       "      <td>6392.0</td>\n",
       "      <td>1</td>\n",
       "    </tr>\n",
       "    <tr>\n",
       "      <th>2</th>\n",
       "      <td>2</td>\n",
       "      <td>28133.0</td>\n",
       "      <td>1</td>\n",
       "    </tr>\n",
       "    <tr>\n",
       "      <th>3</th>\n",
       "      <td>3</td>\n",
       "      <td>28133.0</td>\n",
       "      <td>1</td>\n",
       "    </tr>\n",
       "    <tr>\n",
       "      <th>4</th>\n",
       "      <td>4</td>\n",
       "      <td>22586.5</td>\n",
       "      <td>2</td>\n",
       "    </tr>\n",
       "  </tbody>\n",
       "</table>\n",
       "</div>"
      ],
      "text/plain": [
       "   beer_id  Mean_ratings  Number of ratings\n",
       "0        0       11184.0                  7\n",
       "1        1        6392.0                  1\n",
       "2        2       28133.0                  1\n",
       "3        3       28133.0                  1\n",
       "4        4       22586.5                  2"
      ]
     },
     "execution_count": 99,
     "metadata": {},
     "output_type": "execute_result"
    }
   ],
   "source": [
    "to_plot = average_ratings.merge(count_ratings2, how = \"left\", on = \"beer_id\")\n",
    "to_plot.head()"
   ]
  },
  {
   "cell_type": "code",
   "execution_count": 100,
   "metadata": {},
   "outputs": [
    {
     "data": {
      "image/png": "[encoded data removed]",
      "text/plain": [
       "<Figure size 432x288 with 1 Axes>"
      ]
     },
     "metadata": {
      "needs_background": "light"
     },
     "output_type": "display_data"
    }
   ],
   "source": [
    "plt.figure()\n",
    "sns.scatterplot(x = \"Number of ratings\", y = \"Mean_ratings\", data = to_plot)\n",
    "plt.title(\"Actual Data\")\n",
    "plt.show()"
   ]
  },
  {
   "cell_type": "code",
   "execution_count": 101,
   "metadata": {},
   "outputs": [],
   "source": [
    "predictions_total = nn.predict([df_total.User_id,df_total.beer_id,])"
   ]
  },
  {
   "cell_type": "code",
   "execution_count": 102,
   "metadata": {},
   "outputs": [
    {
     "data": {
      "text/plain": [
       "(678042, 3)"
      ]
     },
     "execution_count": 102,
     "metadata": {},
     "output_type": "execute_result"
    }
   ],
   "source": [
    "df_total.shape"
   ]
  },
  {
   "cell_type": "code",
   "execution_count": 103,
   "metadata": {},
   "outputs": [
    {
     "data": {
      "text/plain": [
       "(678042, 3)"
      ]
     },
     "execution_count": 103,
     "metadata": {},
     "output_type": "execute_result"
    }
   ],
   "source": [
    "pred = df_total[[\"User_id\",\"beer_id\", \"ratings\"]].copy()\n",
    "pred.head()\n",
    "pred.shape"
   ]
  },
  {
   "cell_type": "code",
   "execution_count": 104,
   "metadata": {},
   "outputs": [],
   "source": [
    "pred[\"predicted\"] = predictions_total"
   ]
  },
  {
   "cell_type": "code",
   "execution_count": 105,
   "metadata": {},
   "outputs": [
    {
     "data": {
      "text/html": [
       "<div>\n",
       "<style scoped>\n",
       "    .dataframe tbody tr th:only-of-type {\n",
       "        vertical-align: middle;\n",
       "    }\n",
       "\n",
       "    .dataframe tbody tr th {\n",
       "        vertical-align: top;\n",
       "    }\n",
       "\n",
       "    .dataframe thead th {\n",
       "        text-align: right;\n",
       "    }\n",
       "</style>\n",
       "<table border=\"1\" class=\"dataframe\">\n",
       "  <thead>\n",
       "    <tr style=\"text-align: right;\">\n",
       "      <th></th>\n",
       "      <th>User_id</th>\n",
       "      <th>Beer_id</th>\n",
       "      <th>actual_ratings</th>\n",
       "      <th>predicted_ratings</th>\n",
       "    </tr>\n",
       "  </thead>\n",
       "  <tbody>\n",
       "    <tr>\n",
       "      <th>0</th>\n",
       "      <td>30162</td>\n",
       "      <td>84627</td>\n",
       "      <td>3.08</td>\n",
       "      <td>3.767474</td>\n",
       "    </tr>\n",
       "    <tr>\n",
       "      <th>1</th>\n",
       "      <td>11051</td>\n",
       "      <td>84627</td>\n",
       "      <td>3.13</td>\n",
       "      <td>3.640801</td>\n",
       "    </tr>\n",
       "    <tr>\n",
       "      <th>2</th>\n",
       "      <td>24945</td>\n",
       "      <td>84627</td>\n",
       "      <td>4.07</td>\n",
       "      <td>3.850411</td>\n",
       "    </tr>\n",
       "    <tr>\n",
       "      <th>3</th>\n",
       "      <td>30155</td>\n",
       "      <td>84627</td>\n",
       "      <td>3.38</td>\n",
       "      <td>3.546006</td>\n",
       "    </tr>\n",
       "    <tr>\n",
       "      <th>4</th>\n",
       "      <td>30731</td>\n",
       "      <td>84627</td>\n",
       "      <td>4.07</td>\n",
       "      <td>3.711867</td>\n",
       "    </tr>\n",
       "  </tbody>\n",
       "</table>\n",
       "</div>"
      ],
      "text/plain": [
       "   User_id  Beer_id  actual_ratings  predicted_ratings\n",
       "0    30162    84627            3.08           3.767474\n",
       "1    11051    84627            3.13           3.640801\n",
       "2    24945    84627            4.07           3.850411\n",
       "3    30155    84627            3.38           3.546006\n",
       "4    30731    84627            4.07           3.711867"
      ]
     },
     "execution_count": 105,
     "metadata": {},
     "output_type": "execute_result"
    }
   ],
   "source": [
    "pred.columns = [\"User_id\",\"Beer_id\", \"actual_ratings\", \"predicted_ratings\"]\n",
    "#pred[pred[\"User_id\"] == 999]\n",
    "pred.head()"
   ]
  },
  {
   "cell_type": "code",
   "execution_count": 106,
   "metadata": {},
   "outputs": [
    {
     "data": {
      "image/png": "[encoded data removed]",
      "text/plain": [
       "<Figure size 432x288 with 1 Axes>"
      ]
     },
     "metadata": {
      "needs_background": "light"
     },
     "output_type": "display_data"
    }
   ],
   "source": [
    "plt.figure()\n",
    "plt.hist(pred[\"predicted_ratings\"])\n",
    "plt.show()"
   ]
  },
  {
   "cell_type": "code",
   "execution_count": 107,
   "metadata": {},
   "outputs": [
    {
     "data": {
      "image/png": "[encoded data removed]",
      "text/plain": [
       "<Figure size 432x288 with 1 Axes>"
      ]
     },
     "metadata": {
      "needs_background": "light"
     },
     "output_type": "display_data"
    }
   ],
   "source": [
    "ax1 = sns.distplot(pred.actual_ratings, hist=False, color=\"r\", label=\"Actual Value\")\n",
    "sns.distplot(pred.predicted_ratings, hist=False, color=\"b\", label=\"Fitted Values\" , ax=ax1)\n",
    "\n",
    "\n",
    "plt.title('Actual vs Fitted Values for Beer Ratings')\n",
    "plt.xlabel('Ratings')\n",
    "plt.ylabel('Proportion of Ratings')\n",
    "\n",
    "plt.show()\n",
    "plt.close()"
   ]
  },
  {
   "cell_type": "code",
   "execution_count": 108,
   "metadata": {},
   "outputs": [],
   "source": [
    "average_ratings_predicted = pred.groupby([\"Beer_id\"]).agg([\"mean\"])"
   ]
  },
  {
   "cell_type": "code",
   "execution_count": 109,
   "metadata": {},
   "outputs": [
    {
     "data": {
      "text/html": [
       "<div>\n",
       "<style scoped>\n",
       "    .dataframe tbody tr th:only-of-type {\n",
       "        vertical-align: middle;\n",
       "    }\n",
       "\n",
       "    .dataframe tbody tr th {\n",
       "        vertical-align: top;\n",
       "    }\n",
       "\n",
       "    .dataframe thead tr th {\n",
       "        text-align: left;\n",
       "    }\n",
       "\n",
       "    .dataframe thead tr:last-of-type th {\n",
       "        text-align: right;\n",
       "    }\n",
       "</style>\n",
       "<table border=\"1\" class=\"dataframe\">\n",
       "  <thead>\n",
       "    <tr>\n",
       "      <th></th>\n",
       "      <th>User_id</th>\n",
       "      <th>actual_ratings</th>\n",
       "      <th>predicted_ratings</th>\n",
       "    </tr>\n",
       "    <tr>\n",
       "      <th></th>\n",
       "      <th>mean</th>\n",
       "      <th>mean</th>\n",
       "      <th>mean</th>\n",
       "    </tr>\n",
       "    <tr>\n",
       "      <th>Beer_id</th>\n",
       "      <th></th>\n",
       "      <th></th>\n",
       "      <th></th>\n",
       "    </tr>\n",
       "  </thead>\n",
       "  <tbody>\n",
       "    <tr>\n",
       "      <th>0</th>\n",
       "      <td>11184.0</td>\n",
       "      <td>3.412857</td>\n",
       "      <td>3.481216</td>\n",
       "    </tr>\n",
       "    <tr>\n",
       "      <th>1</th>\n",
       "      <td>6392.0</td>\n",
       "      <td>4.260000</td>\n",
       "      <td>3.816616</td>\n",
       "    </tr>\n",
       "    <tr>\n",
       "      <th>2</th>\n",
       "      <td>28133.0</td>\n",
       "      <td>4.190000</td>\n",
       "      <td>3.912354</td>\n",
       "    </tr>\n",
       "    <tr>\n",
       "      <th>3</th>\n",
       "      <td>28133.0</td>\n",
       "      <td>3.120000</td>\n",
       "      <td>3.240651</td>\n",
       "    </tr>\n",
       "    <tr>\n",
       "      <th>4</th>\n",
       "      <td>22586.5</td>\n",
       "      <td>4.015000</td>\n",
       "      <td>3.769624</td>\n",
       "    </tr>\n",
       "  </tbody>\n",
       "</table>\n",
       "</div>"
      ],
      "text/plain": [
       "         User_id actual_ratings predicted_ratings\n",
       "            mean           mean              mean\n",
       "Beer_id                                          \n",
       "0        11184.0       3.412857          3.481216\n",
       "1         6392.0       4.260000          3.816616\n",
       "2        28133.0       4.190000          3.912354\n",
       "3        28133.0       3.120000          3.240651\n",
       "4        22586.5       4.015000          3.769624"
      ]
     },
     "execution_count": 109,
     "metadata": {},
     "output_type": "execute_result"
    }
   ],
   "source": [
    "average_ratings_predicted.head()"
   ]
  },
  {
   "cell_type": "code",
   "execution_count": 110,
   "metadata": {},
   "outputs": [],
   "source": [
    "average_ratings_predicted = average_ratings_predicted.reset_index()"
   ]
  },
  {
   "cell_type": "code",
   "execution_count": 111,
   "metadata": {},
   "outputs": [],
   "source": [
    "average_ratings_predicted.columns = [\"beer_id\", \"User\", \"Mean_Actual\", \"Mean_predicted\"]"
   ]
  },
  {
   "cell_type": "code",
   "execution_count": 112,
   "metadata": {},
   "outputs": [],
   "source": [
    "average_ratings_predicted.drop(\"User\", axis = 1, inplace = True)"
   ]
  },
  {
   "cell_type": "code",
   "execution_count": 113,
   "metadata": {},
   "outputs": [
    {
     "data": {
      "text/html": [
       "<div>\n",
       "<style scoped>\n",
       "    .dataframe tbody tr th:only-of-type {\n",
       "        vertical-align: middle;\n",
       "    }\n",
       "\n",
       "    .dataframe tbody tr th {\n",
       "        vertical-align: top;\n",
       "    }\n",
       "\n",
       "    .dataframe thead th {\n",
       "        text-align: right;\n",
       "    }\n",
       "</style>\n",
       "<table border=\"1\" class=\"dataframe\">\n",
       "  <thead>\n",
       "    <tr style=\"text-align: right;\">\n",
       "      <th></th>\n",
       "      <th>beer_id</th>\n",
       "      <th>Mean_Actual</th>\n",
       "      <th>Mean_predicted</th>\n",
       "    </tr>\n",
       "  </thead>\n",
       "  <tbody>\n",
       "    <tr>\n",
       "      <th>0</th>\n",
       "      <td>0</td>\n",
       "      <td>3.412857</td>\n",
       "      <td>3.481216</td>\n",
       "    </tr>\n",
       "    <tr>\n",
       "      <th>1</th>\n",
       "      <td>1</td>\n",
       "      <td>4.260000</td>\n",
       "      <td>3.816616</td>\n",
       "    </tr>\n",
       "    <tr>\n",
       "      <th>2</th>\n",
       "      <td>2</td>\n",
       "      <td>4.190000</td>\n",
       "      <td>3.912354</td>\n",
       "    </tr>\n",
       "    <tr>\n",
       "      <th>3</th>\n",
       "      <td>3</td>\n",
       "      <td>3.120000</td>\n",
       "      <td>3.240651</td>\n",
       "    </tr>\n",
       "    <tr>\n",
       "      <th>4</th>\n",
       "      <td>4</td>\n",
       "      <td>4.015000</td>\n",
       "      <td>3.769624</td>\n",
       "    </tr>\n",
       "  </tbody>\n",
       "</table>\n",
       "</div>"
      ],
      "text/plain": [
       "   beer_id  Mean_Actual  Mean_predicted\n",
       "0        0     3.412857        3.481216\n",
       "1        1     4.260000        3.816616\n",
       "2        2     4.190000        3.912354\n",
       "3        3     3.120000        3.240651\n",
       "4        4     4.015000        3.769624"
      ]
     },
     "execution_count": 113,
     "metadata": {},
     "output_type": "execute_result"
    }
   ],
   "source": [
    "average_ratings_predicted.head()"
   ]
  },
  {
   "cell_type": "code",
   "execution_count": 114,
   "metadata": {},
   "outputs": [],
   "source": [
    "average_ratings_predicted = average_ratings_predicted.merge(count_ratings2, how = \"left\", on = \"beer_id\")"
   ]
  },
  {
   "cell_type": "code",
   "execution_count": 115,
   "metadata": {},
   "outputs": [
    {
     "data": {
      "image/png": "[encoded data removed]",
      "text/plain": [
       "<Figure size 432x288 with 1 Axes>"
      ]
     },
     "metadata": {
      "needs_background": "light"
     },
     "output_type": "display_data"
    }
   ],
   "source": [
    "plt.figure()\n",
    "sns.scatterplot(x = \"Number of ratings\", y = \"Mean_Actual\", data = average_ratings_predicted)\n",
    "plt.title(\"Actual Data\")\n",
    "plt.show()"
   ]
  },
  {
   "cell_type": "code",
   "execution_count": 116,
   "metadata": {},
   "outputs": [
    {
     "data": {
      "image/png": "[encoded data removed]",
      "text/plain": [
       "<Figure size 432x288 with 1 Axes>"
      ]
     },
     "metadata": {
      "needs_background": "light"
     },
     "output_type": "display_data"
    }
   ],
   "source": [
    "plt.figure()\n",
    "sns.scatterplot(x = \"Number of ratings\", y = \"Mean_predicted\", data = average_ratings_predicted)\n",
    "plt.title(\"Predicted Data\")\n",
    "plt.show()"
   ]
  },
  {
   "cell_type": "markdown",
   "metadata": {},
   "source": [
    "### VISUALIZATIONS: EMBEDDINGS"
   ]
  },
  {
   "cell_type": "code",
   "execution_count": 117,
   "metadata": {},
   "outputs": [],
   "source": [
    "from sklearn.manifold import TSNE"
   ]
  },
  {
   "cell_type": "code",
   "execution_count": 118,
   "metadata": {},
   "outputs": [],
   "source": [
    "beer_r = TSNE(n_components = 3, metric = 'cosine').fit_transform(beers_for_embedding_project)"
   ]
  },
  {
   "cell_type": "code",
   "execution_count": 119,
   "metadata": {},
   "outputs": [
    {
     "data": {
      "image/png": "[encoded data removed]",
      "text/plain": [
       "<Figure size 720x576 with 1 Axes>"
      ]
     },
     "metadata": {
      "needs_background": "light"
     },
     "output_type": "display_data"
    }
   ],
   "source": [
    "from IPython.core.interactiveshell import InteractiveShell\n",
    "\n",
    "InteractiveShell.ast_node_interactivity = 'last'\n",
    "\n",
    "plt.figure(figsize = (10, 8))\n",
    "plt.plot(beer_r[:, 0], beer_r[:, 1], 'r.')\n",
    "plt.xlabel('TSNE 1'); plt.ylabel('TSNE 2'); plt.title('Beer Embeddings Visualized with TSNE');"
   ]
  },
  {
   "cell_type": "code",
   "execution_count": 120,
   "metadata": {},
   "outputs": [],
   "source": [
    "beer_n = pd.DataFrame(beer_r)"
   ]
  },
  {
   "cell_type": "code",
   "execution_count": 121,
   "metadata": {},
   "outputs": [],
   "source": [
    "target = []\n",
    "for beers in bc_beers_exploration[\"Beer name_x\"]:\n",
    "    target.append(beers)"
   ]
  },
  {
   "cell_type": "code",
   "execution_count": 122,
   "metadata": {},
   "outputs": [],
   "source": [
    "beer_n[\"beer\"] = target"
   ]
  },
  {
   "cell_type": "code",
   "execution_count": 123,
   "metadata": {},
   "outputs": [],
   "source": [
    "styles = []\n",
    "for style in bc_beers_exploration[\"Style\"]:\n",
    "    styles.append(style)"
   ]
  },
  {
   "cell_type": "code",
   "execution_count": 124,
   "metadata": {},
   "outputs": [
    {
     "data": {
      "text/plain": [
       "1490"
      ]
     },
     "execution_count": 124,
     "metadata": {},
     "output_type": "execute_result"
    }
   ],
   "source": [
    "len(styles)"
   ]
  },
  {
   "cell_type": "code",
   "execution_count": 125,
   "metadata": {},
   "outputs": [],
   "source": [
    "beer_n[\"style\"] = styles"
   ]
  },
  {
   "cell_type": "code",
   "execution_count": 126,
   "metadata": {},
   "outputs": [
    {
     "name": "stdout",
     "output_type": "stream",
     "text": [
      "<class 'pandas.core.frame.DataFrame'>\n",
      "RangeIndex: 1490 entries, 0 to 1489\n",
      "Data columns (total 5 columns):\n",
      " #   Column  Non-Null Count  Dtype  \n",
      "---  ------  --------------  -----  \n",
      " 0   0       1490 non-null   float32\n",
      " 1   1       1490 non-null   float32\n",
      " 2   2       1490 non-null   float32\n",
      " 3   beer    1490 non-null   object \n",
      " 4   style   1490 non-null   object \n",
      "dtypes: float32(3), object(2)\n",
      "memory usage: 40.9+ KB\n"
     ]
    }
   ],
   "source": [
    "beer_n.info()"
   ]
  },
  {
   "cell_type": "code",
   "execution_count": 136,
   "metadata": {},
   "outputs": [
    {
     "data": {
      "image/png": "[encoded data removed]"
     },
     "metadata": {},
     "output_type": "display_data"
    }
   ],
   "source": [
    "import plotly.graph_objects as go\n",
    "fig = go.Figure(data=go.Scatter(x=beer_n[0],\n",
    "                                y=beer_n[1],\n",
    "                                mode='markers',\n",
    "                                #marker_color=beer_n['beers']))\n",
    "                                text=beer_n['beer'])) # hover text goes here\n",
    "\n",
    "fig.update_layout(title='BC Beers Embeddings - TSNE')\n",
    "fig.show(\"png\")"
   ]
  },
  {
   "cell_type": "code",
   "execution_count": 128,
   "metadata": {},
   "outputs": [
    {
     "data": {
      "text/plain": [
       "(1490,)"
      ]
     },
     "execution_count": 128,
     "metadata": {},
     "output_type": "execute_result"
    }
   ],
   "source": [
    "# encoding style to see color as different beer styles\n",
    "from sklearn import preprocessing\n",
    "styles_unique = beer_n[\"style\"]\n",
    "styles_unique.shape"
   ]
  },
  {
   "cell_type": "code",
   "execution_count": 129,
   "metadata": {},
   "outputs": [],
   "source": [
    "le = preprocessing.LabelEncoder()\n",
    "le.fit(styles_unique)\n",
    "\n",
    "result = le.transform(styles_unique)"
   ]
  },
  {
   "cell_type": "code",
   "execution_count": 130,
   "metadata": {},
   "outputs": [],
   "source": [
    "style_df = pd.DataFrame({\"style\" : styles_unique, \"style_code\" : result})"
   ]
  },
  {
   "cell_type": "code",
   "execution_count": 131,
   "metadata": {},
   "outputs": [
    {
     "data": {
      "text/html": [
       "<div>\n",
       "<style scoped>\n",
       "    .dataframe tbody tr th:only-of-type {\n",
       "        vertical-align: middle;\n",
       "    }\n",
       "\n",
       "    .dataframe tbody tr th {\n",
       "        vertical-align: top;\n",
       "    }\n",
       "\n",
       "    .dataframe thead th {\n",
       "        text-align: right;\n",
       "    }\n",
       "</style>\n",
       "<table border=\"1\" class=\"dataframe\">\n",
       "  <thead>\n",
       "    <tr style=\"text-align: right;\">\n",
       "      <th></th>\n",
       "      <th>style</th>\n",
       "      <th>style_code</th>\n",
       "    </tr>\n",
       "  </thead>\n",
       "  <tbody>\n",
       "    <tr>\n",
       "      <th>0</th>\n",
       "      <td>French Bière de Garde</td>\n",
       "      <td>61</td>\n",
       "    </tr>\n",
       "    <tr>\n",
       "      <th>1</th>\n",
       "      <td>German Bock</td>\n",
       "      <td>64</td>\n",
       "    </tr>\n",
       "    <tr>\n",
       "      <th>2</th>\n",
       "      <td>German Bock</td>\n",
       "      <td>64</td>\n",
       "    </tr>\n",
       "    <tr>\n",
       "      <th>3</th>\n",
       "      <td>Belgian Pale Ale</td>\n",
       "      <td>30</td>\n",
       "    </tr>\n",
       "    <tr>\n",
       "      <th>4</th>\n",
       "      <td>American Adjunct Lager</td>\n",
       "      <td>0</td>\n",
       "    </tr>\n",
       "  </tbody>\n",
       "</table>\n",
       "</div>"
      ],
      "text/plain": [
       "                    style  style_code\n",
       "0   French Bière de Garde          61\n",
       "1             German Bock          64\n",
       "2             German Bock          64\n",
       "3        Belgian Pale Ale          30\n",
       "4  American Adjunct Lager           0"
      ]
     },
     "execution_count": 131,
     "metadata": {},
     "output_type": "execute_result"
    }
   ],
   "source": [
    "style_df.head()"
   ]
  },
  {
   "cell_type": "code",
   "execution_count": 132,
   "metadata": {},
   "outputs": [],
   "source": [
    "beer_n[\"style_code\"] = style_df[\"style_code\"]"
   ]
  },
  {
   "cell_type": "code",
   "execution_count": 135,
   "metadata": {},
   "outputs": [
    {
     "data": {
      "image/png": "[encoded data removed]"
     },
     "metadata": {},
     "output_type": "display_data"
    }
   ],
   "source": [
    "fig = go.Figure(data=go.Scatter(x=beer_n[0],\n",
    "                                y=beer_n[1],\n",
    "                                mode='markers',\n",
    "                                marker_color=beer_n['style_code'],\n",
    "                                text=beer_n['beer'])) # hover text goes here\n",
    "\n",
    "fig.update_layout(title='BC Beers Embeddings by Style - TSNE')\n",
    "fig.show(\"png\")"
   ]
  },
  {
   "cell_type": "code",
   "execution_count": null,
   "metadata": {},
   "outputs": [],
   "source": []
  },
  {
   "cell_type": "code",
   "execution_count": null,
   "metadata": {},
   "outputs": [],
   "source": []
  }
 ],
 "metadata": {
  "kernelspec": {
   "display_name": "Python 3",
   "language": "python",
   "name": "python3"
  },
  "language_info": {
   "codemirror_mode": {
    "name": "ipython",
    "version": 3
   },
   "file_extension": ".py",
   "mimetype": "text/x-python",
   "name": "python",
   "nbconvert_exporter": "python",
   "pygments_lexer": "ipython3",
   "version": "3.6.10"
  }
 },
 "nbformat": 4,
 "nbformat_minor": 4
}
